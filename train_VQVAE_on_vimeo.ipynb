{
 "cells": [
  {
   "cell_type": "code",
   "execution_count": 1,
   "id": "5ba28bd5-c837-4062-8755-1179d584751b",
   "metadata": {},
   "outputs": [],
   "source": [
    "import numpy as np\n",
    "import matplotlib.pyplot as plt\n",
    "import torch\n",
    "import torch.nn as nn\n",
    "import IPython.display as disp\n",
    "from torch.utils.data import DataLoader\n",
    "from datasets import load_dataset\n",
    "from torchvision import transforms\n",
    "from vector_quantize_pytorch import FSQ"
   ]
  },
  {
   "cell_type": "code",
   "execution_count": 2,
   "id": "e350bd51-e6ec-4eed-a4a6-ef2a5174d4a8",
   "metadata": {},
   "outputs": [
    {
     "data": {
      "application/vnd.jupyter.widget-view+json": {
       "model_id": "26cfd19cc37541eba82a933fb4258a4e",
       "version_major": 2,
       "version_minor": 0
      },
      "text/plain": [
       "Resolving data files:   0%|          | 0/71 [00:00<?, ?it/s]"
      ]
     },
     "metadata": {},
     "output_type": "display_data"
    }
   ],
   "source": [
    "dataset = load_dataset(\"danjacobellis/vimeo90k_triplet\",split='train').with_format(\"torch\")\n",
    "dataloader = DataLoader(dataset, batch_size=64, shuffle=True)"
   ]
  },
  {
   "cell_type": "code",
   "execution_count": 3,
   "id": "1edd5ecc-60f5-4503-be88-603c2cc048a8",
   "metadata": {},
   "outputs": [],
   "source": [
    "from vector_quantize_pytorch import FSQ\n",
    "\n",
    "class VectorQuantizedAutoencoder(nn.Module):\n",
    "    def __init__(self, levels):  # Provide levels as an argument\n",
    "        super().__init__()\n",
    "        self.layers = nn.ModuleList(\n",
    "            [\n",
    "                nn.Conv2d(3, 128, kernel_size=3, stride=1, padding=1),\n",
    "                nn.MaxPool2d(kernel_size=2, stride=2),\n",
    "                nn.GELU(),\n",
    "                nn.Conv2d(128, 128, kernel_size=3, stride=1, padding=1),\n",
    "                nn.MaxPool2d(kernel_size=2, stride=2),\n",
    "                FSQ(levels),  # Use FSQ instead of VectorQuantize\n",
    "                nn.Upsample(scale_factor=2, mode=\"nearest\"),\n",
    "                nn.Conv2d(128, 128, kernel_size=3, stride=1, padding=1),\n",
    "                nn.GELU(),\n",
    "                nn.Upsample(scale_factor=2, mode=\"nearest\"),\n",
    "                nn.Conv2d(128, 3, kernel_size=3, stride=1, padding=1),\n",
    "            ]\n",
    "        )\n",
    "        return\n",
    "\n",
    "    def forward(self, x):\n",
    "        indices = None  # Initialize indices\n",
    "        for layer in self.layers:\n",
    "            if isinstance(layer, FSQ):\n",
    "                x_shape = x.shape[:-1]\n",
    "                x_flat = x.reshape(x.size(0), -1, x.size(1))\n",
    "                x_flat, indices = layer(x_flat)  # FSQ does not return commit_loss\n",
    "                x = x_flat.reshape(*x_shape, -1)\n",
    "            else:\n",
    "                x = layer(x)\n",
    "        return x.clamp(-1, 1), indices  # commit_loss is not returned"
   ]
  },
  {
   "cell_type": "code",
   "execution_count": 4,
   "id": "3cd15528-f8ad-46b2-945c-aedd4af3def7",
   "metadata": {},
   "outputs": [],
   "source": [
    "def live_plot(x):\n",
    "    plt.clf()\n",
    "    plt.plot(x)\n",
    "    disp.display(plt.gcf())\n",
    "    disp.clear_output(wait=True)"
   ]
  },
  {
   "cell_type": "code",
   "execution_count": null,
   "id": "ef97f404-3cb3-4a97-be82-105c914a7ec8",
   "metadata": {},
   "outputs": [
    {
     "data": {
      "image/png": "[encoded data removed]",
      "text/plain": [
       "<Figure size 640x480 with 1 Axes>"
      ]
     },
     "metadata": {},
     "output_type": "display_data"
    }
   ],
   "source": [
    "lr = 3e-4\n",
    "seed = 1234\n",
    "alpha=10\n",
    "levels = [8] * 128\n",
    "torch.random.manual_seed(seed)\n",
    "model = VectorQuantizedAutoencoder(levels).to(\"cuda\")\n",
    "opt = torch.optim.AdamW(model.parameters(), lr=lr)\n",
    "\n",
    "log_loss = np.array([])\n",
    "for i_epoch in range(5):\n",
    "    for i_batch, batch in enumerate(dataloader):\n",
    "        x = batch['image'].to(\"cuda\")\n",
    "        x = x.to(torch.float)\n",
    "        x = x/255\n",
    "        x = x - 0.5\n",
    "        x = x.permute(0, 3, 1, 2)\n",
    "        opt.zero_grad()\n",
    "        out, indices = model(x)\n",
    "        rec_loss = (out - x).abs().mean()\n",
    "        rec_loss.backward()\n",
    "        opt.step()\n",
    "        log_loss = np.append(log_loss,np.log(rec_loss.detach().cpu().numpy()))\n",
    "        live_plot(log_loss)\n",
    "        torch.save({\n",
    "            'epoch': i_epoch,\n",
    "            'model_state_dict':  model.state_dict(),\n",
    "            'optimizer_state_dict': opt.state_dict(),\n",
    "            'log_loss': log_loss,\n",
    "        }, f\"vqvae_vimeo_checkpoint.pth\")"
   ]
  }
 ],
 "metadata": {
  "kernelspec": {
   "display_name": "Python 3 (ipykernel)",
   "language": "python",
   "name": "python3"
  },
  "language_info": {
   "codemirror_mode": {
    "name": "ipython",
    "version": 3
   },
   "file_extension": ".py",
   "mimetype": "text/x-python",
   "name": "python",
   "nbconvert_exporter": "python",
   "pygments_lexer": "ipython3",
   "version": "3.10.12"
  }
 },
 "nbformat": 4,
 "nbformat_minor": 5
}
