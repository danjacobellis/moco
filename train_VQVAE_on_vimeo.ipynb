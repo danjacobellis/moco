{
 "cells": [
  {
   "cell_type": "code",
   "execution_count": 1,
   "id": "5ba28bd5-c837-4062-8755-1179d584751b",
   "metadata": {},
   "outputs": [],
   "source": [
    "import numpy as np\n",
    "import matplotlib.pyplot as plt\n",
    "import torch\n",
    "import torch.nn as nn\n",
    "import IPython.display as disp\n",
    "from torch.utils.data import DataLoader\n",
    "from datasets import load_dataset\n",
    "from torchvision import transforms\n",
    "from vector_quantize_pytorch import FSQ\n",
    "from random import randint"
   ]
  },
  {
   "cell_type": "code",
   "execution_count": 2,
   "id": "1edd5ecc-60f5-4503-be88-603c2cc048a8",
   "metadata": {},
   "outputs": [],
   "source": [
    "class VectorQuantizedAutoencoder(nn.Module):\n",
    "    def __init__(self, levels): \n",
    "        super().__init__()\n",
    "        \n",
    "        self.analysis_transform = nn.Sequential(\n",
    "            nn.Conv2d(3, 192, kernel_size=2, stride=1, padding=1),\n",
    "            nn.Conv2d(192, 192, kernel_size=6, stride=3, padding=1),\n",
    "            nn.MaxPool2d(kernel_size=2, stride=2),\n",
    "            nn.GELU(),\n",
    "            nn.Conv2d(192, 192, kernel_size=6, stride=3, padding=1),\n",
    "            nn.Conv2d(192, 512, kernel_size=6, stride=3, padding=1),\n",
    "        )\n",
    "        \n",
    "        self.fsq = FSQ(levels)\n",
    "        \n",
    "        self.synthesis_transform = nn.Sequential(\n",
    "            nn.ConvTranspose2d(512, 192, kernel_size=6, stride=3, padding=1),\n",
    "            nn.ConvTranspose2d(192, 192, kernel_size=6, stride=3, padding=0),\n",
    "            nn.GELU(),\n",
    "            nn.Upsample(scale_factor=2, mode=\"nearest\"),\n",
    "            nn.ConvTranspose2d(192, 192, kernel_size=6, stride=3, padding=0),\n",
    "            nn.Conv2d(192, 3, kernel_size=2, stride=1, padding=1),\n",
    "        )\n",
    "\n",
    "    def forward(self, x):\n",
    "        x = self.analysis_transform(x)\n",
    "        x, indices = self.fsq(x)\n",
    "        x = self.synthesis_transform(x)\n",
    "\n",
    "        return x.clamp(-1, 1), indices"
   ]
  },
  {
   "cell_type": "code",
   "execution_count": 4,
   "id": "3cd15528-f8ad-46b2-945c-aedd4af3def7",
   "metadata": {},
   "outputs": [],
   "source": [
    "def live_plot(x):\n",
    "    plt.clf()\n",
    "    plt.plot(x)\n",
    "    disp.display(plt.gcf())\n",
    "    disp.clear_output(wait=True)"
   ]
  },
  {
   "cell_type": "code",
   "execution_count": 5,
   "id": "e350bd51-e6ec-4eed-a4a6-ef2a5174d4a8",
   "metadata": {},
   "outputs": [
    {
     "data": {
      "application/vnd.jupyter.widget-view+json": {
       "model_id": "606852515a9e4e0db5496ee8c01a3c92",
       "version_major": 2,
       "version_minor": 0
      },
      "text/plain": [
       "Resolving data files:   0%|          | 0/71 [00:00<?, ?it/s]"
      ]
     },
     "metadata": {},
     "output_type": "display_data"
    }
   ],
   "source": [
    "dataset = load_dataset(\"danjacobellis/vimeo90k_triplet\",split='train').with_format(\"torch\")"
   ]
  },
  {
   "cell_type": "code",
   "execution_count": null,
   "id": "ef97f404-3cb3-4a97-be82-105c914a7ec8",
   "metadata": {},
   "outputs": [],
   "source": [
    "lr = 3e-4\n",
    "seed = 1234\n",
    "levels = [8, 5, 5, 5]\n",
    "torch.random.manual_seed(seed)\n",
    "model = VectorQuantizedAutoencoder(levels).to(\"cuda\")\n",
    "opt = torch.optim.AdamW(model.parameters(), lr=lr)\n",
    "crop = transforms.RandomCrop(size=(256,256))\n",
    "\n",
    "log_loss = np.array([])\n",
    "for i_epoch in range(200):\n",
    "    dataloader = DataLoader(dataset, batch_size=64, shuffle=True)\n",
    "    for i_batch, batch in enumerate(dataloader):\n",
    "        x = batch['image'].to(\"cuda\")\n",
    "        x = x.to(torch.float)\n",
    "        x = x/255\n",
    "        x = x - 0.5\n",
    "        x = x.permute(0, 3, 1, 2)\n",
    "        x = crop(x)\n",
    "        opt.zero_grad()\n",
    "        out, indices = model(x)\n",
    "        rec_loss = (out - x).abs().mean()\n",
    "        rec_loss.backward()\n",
    "        opt.step()\n",
    "        log_loss = np.append(log_loss,np.log(rec_loss.detach().cpu().numpy()))\n",
    "        live_plot(log_loss)\n",
    "        torch.save({\n",
    "            'epoch': i_epoch,\n",
    "            'model_state_dict':  model.state_dict(),\n",
    "            'optimizer_state_dict': opt.state_dict(),\n",
    "            'log_loss': log_loss,\n",
    "        }, f\"vqvae_vimeo_checkpoint.pth\")"
   ]
  },
  {
   "cell_type": "code",
   "execution_count": 4,
   "id": "0617f00b-fe79-44c7-9eef-1b6c428be5b2",
   "metadata": {},
   "outputs": [
    {
     "data": {
      "text/plain": [
       "[<matplotlib.lines.Line2D at 0x7fcfc16c2440>]"
      ]
     },
     "execution_count": 4,
     "metadata": {},
     "output_type": "execute_result"
    },
    {
     "data": {
      "image/png": "[encoded data removed]",
      "text/plain": [
       "<Figure size 640x480 with 1 Axes>"
      ]
     },
     "metadata": {},
     "output_type": "display_data"
    }
   ],
   "source": [
    "checkpoint = torch.load(\"vqvae_vimeo_checkpoint.pth\")\n",
    "plt.plot(checkpoint['log_loss'])"
   ]
  }
 ],
 "metadata": {
  "kernelspec": {
   "display_name": "Python 3 (ipykernel)",
   "language": "python",
   "name": "python3"
  },
  "language_info": {
   "codemirror_mode": {
    "name": "ipython",
    "version": 3
   },
   "file_extension": ".py",
   "mimetype": "text/x-python",
   "name": "python",
   "nbconvert_exporter": "python",
   "pygments_lexer": "ipython3",
   "version": "3.10.12"
  }
 },
 "nbformat": 4,
 "nbformat_minor": 5
}
