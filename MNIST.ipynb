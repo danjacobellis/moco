{
 "cells": [
  {
   "cell_type": "markdown",
   "id": "e81e77cd-64d5-43e6-ad7d-687805a657b5",
   "metadata": {},
   "source": [
    "This is a port of the [tensorflow compression tutorial](https://www.tensorflow.org/tutorials/generative/data_compression) using:\n",
    "* [Flax](https://flax.readthedocs.io/en/latest/)\n",
    "* [PIX](https://github.com/deepmind/dm_pix)\n",
    "* [Codex](https://github.com/google/codex)\n",
    "* [Huggingface datasets](https://huggingface.co/docs/datasets/use_with_jax)"
   ]
  },
  {
   "cell_type": "code",
   "execution_count": 1,
   "id": "ba0fb8cd-127b-4b13-a159-59a69505c6a6",
   "metadata": {},
   "outputs": [],
   "source": [
    "import flax.linen as nn\n",
    "import jax\n",
    "import jax.numpy as jnp"
   ]
  },
  {
   "cell_type": "code",
   "execution_count": 2,
   "id": "c7b13135-f063-431e-a322-5eda6156ecd4",
   "metadata": {},
   "outputs": [
    {
     "name": "stderr",
     "output_type": "stream",
     "text": [
      "2023-07-18 05:22:47.758356: W tensorflow/compiler/tf2tensorrt/utils/py_utils.cc:38] TF-TRT Warning: Could not find TensorRT\n"
     ]
    }
   ],
   "source": [
    "from flax import linen as nn\n",
    "from flax.training import train_state\n",
    "from flax.training.common_utils import get_metrics, onehot\n",
    "from flax.metrics import tensorboard\n",
    "import optax\n",
    "import jax\n",
    "from jax import numpy as jnp\n",
    "from jax import random\n",
    "import codex.ems"
   ]
  },
  {
   "cell_type": "code",
   "execution_count": 3,
   "id": "778b49dc-fc02-483b-a2b6-0e81f29b9761",
   "metadata": {},
   "outputs": [],
   "source": [
    "from datasets import load_dataset\n",
    "import dm_pix as pix\n",
    "import PIL.Image as Image\n",
    "import numpy as onp\n",
    "from IPython.display import display"
   ]
  },
  {
   "cell_type": "code",
   "execution_count": 4,
   "id": "ad100c84-0f9c-47c8-9dce-82e681c4816f",
   "metadata": {},
   "outputs": [],
   "source": [
    "from flax.training import train_state\n",
    "from flax.training.common_utils import shard, get_metrics\n",
    "import time"
   ]
  },
  {
   "cell_type": "code",
   "execution_count": 23,
   "id": "37009c1c-a871-424f-a7e1-ea92ebc54244",
   "metadata": {},
   "outputs": [],
   "source": [
    "class AnalysisTransform(nn.Module):\n",
    "    @nn.compact\n",
    "    def __call__(self, x):\n",
    "        x = nn.Conv(features=20, kernel_size=(5, 5), strides=(2, 2))(x)\n",
    "        x = nn.leaky_relu(x)\n",
    "        x = nn.Conv(features=50, kernel_size=(5, 5), strides=(2, 2))(x)\n",
    "        x = nn.leaky_relu(x)\n",
    "        x = x.reshape((x.shape[0], -1))\n",
    "        x = nn.Dense(features=500)(x)\n",
    "        x = nn.leaky_relu(x)\n",
    "        x = nn.Dense(features=2450)(x)\n",
    "        return x\n",
    "\n",
    "class SynthesisTransform(nn.Module):\n",
    "    @nn.compact\n",
    "    def __call__(self, x):\n",
    "        x = nn.Dense(features=500)(x)\n",
    "        x = nn.leaky_relu(x)\n",
    "        x = nn.Dense(features=2450)(x)\n",
    "        x = nn.leaky_relu(x)\n",
    "        x = x.reshape((x.shape[0], 7, 7, 50))\n",
    "        x = nn.ConvTranspose(features=20, kernel_size=(5, 5), strides=(2, 2))(x)\n",
    "        x = nn.leaky_relu(x)\n",
    "        x = nn.ConvTranspose(features=1, kernel_size=(5, 5), strides=(2, 2))(x)\n",
    "        x = nn.leaky_relu(x)\n",
    "        return (x)"
   ]
  },
  {
   "cell_type": "code",
   "execution_count": 6,
   "id": "5a9115c8-99ba-40be-9e2c-06f6d36a1c48",
   "metadata": {},
   "outputs": [
    {
     "name": "stderr",
     "output_type": "stream",
     "text": [
      "Found cached dataset mnist (/home/server/.cache/huggingface/datasets/mnist/mnist/1.0.0/9d494b7f466d6931c64fb39d58bb1249a4d85c9eb9865d9bc20960b999e2a332)\n"
     ]
    },
    {
     "data": {
      "application/vnd.jupyter.widget-view+json": {
       "model_id": "2f65d26af882437a8c04b1cdf726526e",
       "version_major": 2,
       "version_minor": 0
      },
      "text/plain": [
       "  0%|          | 0/2 [00:00<?, ?it/s]"
      ]
     },
     "metadata": {},
     "output_type": "display_data"
    },
    {
     "data": {
      "image/png": "[encoded data removed]",
      "text/plain": [
       "<PIL.Image.Image image mode=L size=28x28>"
      ]
     },
     "metadata": {},
     "output_type": "display_data"
    }
   ],
   "source": [
    "ds = load_dataset(\"mnist\")\n",
    "ds = ds.with_format(\"jax\")\n",
    "test_image = ds['train'][0]['image']\n",
    "display(Image.fromarray(onp.array(test_image)))\n",
    "batch = jnp.expand_dims(test_image, 0)\n",
    "batch = jnp.expand_dims(batch, 3)"
   ]
  },
  {
   "cell_type": "code",
   "execution_count": 24,
   "id": "bd37c384-607a-4f9d-9a1e-52470f1af67d",
   "metadata": {},
   "outputs": [],
   "source": [
    "h = AnalysisTransform()\n",
    "h_vars = h.init(jax.random.PRNGKey(0), batch)\n",
    "z = h.apply(h_vars, batch)"
   ]
  },
  {
   "cell_type": "code",
   "execution_count": 25,
   "id": "1446e82b-22ce-4993-89b1-d4bcb9d16ee9",
   "metadata": {},
   "outputs": [],
   "source": [
    "g = SynthesisTransform()\n",
    "g_vars = g.init(jax.random.PRNGKey(0), z)\n",
    "y = h.apply(g_vars,z)"
   ]
  },
  {
   "cell_type": "code",
   "execution_count": 67,
   "id": "0e1134e5-1a2b-4541-8b58-a77929f63b83",
   "metadata": {},
   "outputs": [
    {
     "ename": "ValueError",
     "evalue": "parent must be None, Module or Scope",
     "output_type": "error",
     "traceback": [
      "\u001b[0;31m---------------------------------------------------------------------------\u001b[0m",
      "\u001b[0;31mValueError\u001b[0m                                Traceback (most recent call last)",
      "Cell \u001b[0;32mIn[67], line 1\u001b[0m\n\u001b[0;32m----> 1\u001b[0m \u001b[43mh\u001b[49m\u001b[43m(\u001b[49m\u001b[43mtest_image\u001b[49m\u001b[43m)\u001b[49m\n",
      "File \u001b[0;32m<string>:5\u001b[0m, in \u001b[0;36m__init__\u001b[0;34m(self, parent, name)\u001b[0m\n",
      "File \u001b[0;32m~/.local/lib/python3.10/site-packages/flax/linen/module.py:991\u001b[0m, in \u001b[0;36mModule.__post_init__\u001b[0;34m(self)\u001b[0m\n\u001b[1;32m    989\u001b[0m   \u001b[38;5;28mobject\u001b[39m\u001b[38;5;241m.\u001b[39m\u001b[38;5;21m__setattr__\u001b[39m(\u001b[38;5;28mself\u001b[39m, \u001b[38;5;124m'\u001b[39m\u001b[38;5;124mscope\u001b[39m\u001b[38;5;124m'\u001b[39m, \u001b[38;5;28mself\u001b[39m\u001b[38;5;241m.\u001b[39mparent)\n\u001b[1;32m    990\u001b[0m \u001b[38;5;28;01melse\u001b[39;00m:\n\u001b[0;32m--> 991\u001b[0m   \u001b[38;5;28;01mraise\u001b[39;00m \u001b[38;5;167;01mValueError\u001b[39;00m(\u001b[38;5;124m'\u001b[39m\u001b[38;5;124mparent must be None, Module or Scope\u001b[39m\u001b[38;5;124m'\u001b[39m)\n\u001b[1;32m    993\u001b[0m \u001b[38;5;66;03m# eagerly bind submodules if scope is available\u001b[39;00m\n\u001b[1;32m    994\u001b[0m \u001b[38;5;28;01mif\u001b[39;00m \u001b[38;5;28mself\u001b[39m\u001b[38;5;241m.\u001b[39mscope \u001b[38;5;129;01mis\u001b[39;00m \u001b[38;5;129;01mnot\u001b[39;00m \u001b[38;5;28;01mNone\u001b[39;00m:\n",
      "\u001b[0;31mValueError\u001b[0m: parent must be None, Module or Scope"
     ]
    }
   ],
   "source": [
    "h(test_image)"
   ]
  },
  {
   "cell_type": "code",
   "execution_count": 4,
   "id": "c9bf5108-c36a-4dd3-b964-8001e0270781",
   "metadata": {},
   "outputs": [],
   "source": [
    "class AnalysisTransform(nn.Module):\n",
    "    latent_dims: int\n",
    "\n",
    "    def setup(self):\n",
    "        self.conv_1 = nn.Conv(features=20, kernel_size=(5, 5), strides=(2, 2))\n",
    "        self.conv_2 = nn.Conv(features=50, kernel_size=(5, 5), strides=(2, 2))\n",
    "        self.fc_1 = nn.Dense(features=500)\n",
    "        self.fc_2 = nn.Dense(features=self.latent_dims)\n",
    "\n",
    "    def __call__(self, x):\n",
    "        x = nn.leaky_relu(self.conv_1(x))\n",
    "        x = nn.leaky_relu(self.conv_2(x))\n",
    "        x = x.reshape((x.shape[0], -1))  # flatten\n",
    "        x = nn.leaky_relu(self.fc_1(x))\n",
    "        return self.fc_2(x)\n",
    "\n"
   ]
  },
  {
   "cell_type": "code",
   "execution_count": 59,
   "id": "8c48d8ec-6cca-49b5-9551-54ee51054eda",
   "metadata": {},
   "outputs": [],
   "source": [
    "h = AnalysisTransform(latent_dims=7*7*50)"
   ]
  },
  {
   "cell_type": "code",
   "execution_count": 62,
   "id": "b549566e-ac86-464e-a291-e9430623c02a",
   "metadata": {},
   "outputs": [
    {
     "ename": "AttributeError",
     "evalue": "\"AnalysisTransform\" object has no attribute \"conv_1\". If \"conv_1\" is defined in '.setup()', remember these fields are only accessible from inside 'init' or 'apply'.",
     "output_type": "error",
     "traceback": [
      "\u001b[0;31m---------------------------------------------------------------------------\u001b[0m",
      "\u001b[0;31mAttributeError\u001b[0m                            Traceback (most recent call last)",
      "Cell \u001b[0;32mIn[62], line 1\u001b[0m\n\u001b[0;32m----> 1\u001b[0m \u001b[43mh\u001b[49m\u001b[38;5;241;43m.\u001b[39;49m\u001b[38;5;21;43m__call__\u001b[39;49m\u001b[43m(\u001b[49m\u001b[43mtest_image\u001b[49m\u001b[43m)\u001b[49m\n",
      "File \u001b[0;32m~/.local/lib/python3.10/site-packages/flax/linen/module.py:418\u001b[0m, in \u001b[0;36mwrap_method_once.<locals>.wrapped_module_method\u001b[0;34m(*args, **kwargs)\u001b[0m\n\u001b[1;32m    416\u001b[0m \u001b[38;5;28;01mif\u001b[39;00m args \u001b[38;5;129;01mand\u001b[39;00m \u001b[38;5;28misinstance\u001b[39m(args[\u001b[38;5;241m0\u001b[39m], Module):\n\u001b[1;32m    417\u001b[0m   \u001b[38;5;28mself\u001b[39m, args \u001b[38;5;241m=\u001b[39m args[\u001b[38;5;241m0\u001b[39m], args[\u001b[38;5;241m1\u001b[39m:]\n\u001b[0;32m--> 418\u001b[0m   \u001b[38;5;28;01mreturn\u001b[39;00m \u001b[38;5;28;43mself\u001b[39;49m\u001b[38;5;241;43m.\u001b[39;49m\u001b[43m_call_wrapped_method\u001b[49m\u001b[43m(\u001b[49m\u001b[43mfun\u001b[49m\u001b[43m,\u001b[49m\u001b[43m \u001b[49m\u001b[43margs\u001b[49m\u001b[43m,\u001b[49m\u001b[43m \u001b[49m\u001b[43mkwargs\u001b[49m\u001b[43m)\u001b[49m\n\u001b[1;32m    419\u001b[0m \u001b[38;5;28;01melse\u001b[39;00m:\n\u001b[1;32m    420\u001b[0m   \u001b[38;5;28;01mreturn\u001b[39;00m fun(\u001b[38;5;241m*\u001b[39margs, \u001b[38;5;241m*\u001b[39m\u001b[38;5;241m*\u001b[39mkwargs)\n",
      "File \u001b[0;32m~/.local/lib/python3.10/site-packages/flax/linen/module.py:854\u001b[0m, in \u001b[0;36mModule._call_wrapped_method\u001b[0;34m(self, fun, args, kwargs)\u001b[0m\n\u001b[1;32m    852\u001b[0m \u001b[38;5;28;01mif\u001b[39;00m _use_named_call:\n\u001b[1;32m    853\u001b[0m   \u001b[38;5;28;01mwith\u001b[39;00m jax\u001b[38;5;241m.\u001b[39mnamed_scope(_derive_profiling_name(\u001b[38;5;28mself\u001b[39m, fun)):\n\u001b[0;32m--> 854\u001b[0m     y \u001b[38;5;241m=\u001b[39m \u001b[43mfun\u001b[49m\u001b[43m(\u001b[49m\u001b[38;5;28;43mself\u001b[39;49m\u001b[43m,\u001b[49m\u001b[43m \u001b[49m\u001b[38;5;241;43m*\u001b[39;49m\u001b[43margs\u001b[49m\u001b[43m,\u001b[49m\u001b[43m \u001b[49m\u001b[38;5;241;43m*\u001b[39;49m\u001b[38;5;241;43m*\u001b[39;49m\u001b[43mkwargs\u001b[49m\u001b[43m)\u001b[49m\n\u001b[1;32m    855\u001b[0m \u001b[38;5;28;01melse\u001b[39;00m:\n\u001b[1;32m    856\u001b[0m   y \u001b[38;5;241m=\u001b[39m fun(\u001b[38;5;28mself\u001b[39m, \u001b[38;5;241m*\u001b[39margs, \u001b[38;5;241m*\u001b[39m\u001b[38;5;241m*\u001b[39mkwargs)\n",
      "Cell \u001b[0;32mIn[4], line 11\u001b[0m, in \u001b[0;36mAnalysisTransform.__call__\u001b[0;34m(self, x)\u001b[0m\n\u001b[1;32m     10\u001b[0m \u001b[38;5;28;01mdef\u001b[39;00m \u001b[38;5;21m__call__\u001b[39m(\u001b[38;5;28mself\u001b[39m, x):\n\u001b[0;32m---> 11\u001b[0m     x \u001b[38;5;241m=\u001b[39m nn\u001b[38;5;241m.\u001b[39mleaky_relu(\u001b[38;5;28;43mself\u001b[39;49m\u001b[38;5;241;43m.\u001b[39;49m\u001b[43mconv_1\u001b[49m(x))\n\u001b[1;32m     12\u001b[0m     x \u001b[38;5;241m=\u001b[39m nn\u001b[38;5;241m.\u001b[39mleaky_relu(\u001b[38;5;28mself\u001b[39m\u001b[38;5;241m.\u001b[39mconv_2(x))\n\u001b[1;32m     13\u001b[0m     x \u001b[38;5;241m=\u001b[39m x\u001b[38;5;241m.\u001b[39mreshape((x\u001b[38;5;241m.\u001b[39mshape[\u001b[38;5;241m0\u001b[39m], \u001b[38;5;241m-\u001b[39m\u001b[38;5;241m1\u001b[39m))  \u001b[38;5;66;03m# flatten\u001b[39;00m\n",
      "File \u001b[0;32m~/.local/lib/python3.10/site-packages/flax/linen/module.py:931\u001b[0m, in \u001b[0;36mModule.__getattr__\u001b[0;34m(self, name)\u001b[0m\n\u001b[1;32m    928\u001b[0m \u001b[38;5;28;01mif\u001b[39;00m \u001b[38;5;28mself\u001b[39m\u001b[38;5;241m.\u001b[39mscope \u001b[38;5;129;01mis\u001b[39;00m \u001b[38;5;28;01mNone\u001b[39;00m:\n\u001b[1;32m    929\u001b[0m   msg \u001b[38;5;241m+\u001b[39m\u001b[38;5;241m=\u001b[39m (\u001b[38;5;124mf\u001b[39m\u001b[38;5;124m'\u001b[39m\u001b[38;5;124m If \u001b[39m\u001b[38;5;124m\"\u001b[39m\u001b[38;5;132;01m{\u001b[39;00mname\u001b[38;5;132;01m}\u001b[39;00m\u001b[38;5;124m\"\u001b[39m\u001b[38;5;124m is defined in \u001b[39m\u001b[38;5;130;01m\\'\u001b[39;00m\u001b[38;5;124m.setup()\u001b[39m\u001b[38;5;130;01m\\'\u001b[39;00m\u001b[38;5;124m, remember these fields \u001b[39m\u001b[38;5;124m'\u001b[39m\n\u001b[1;32m    930\u001b[0m     \u001b[38;5;124m'\u001b[39m\u001b[38;5;124mare only accessible from inside \u001b[39m\u001b[38;5;130;01m\\'\u001b[39;00m\u001b[38;5;124minit\u001b[39m\u001b[38;5;130;01m\\'\u001b[39;00m\u001b[38;5;124m or \u001b[39m\u001b[38;5;130;01m\\'\u001b[39;00m\u001b[38;5;124mapply\u001b[39m\u001b[38;5;130;01m\\'\u001b[39;00m\u001b[38;5;124m.\u001b[39m\u001b[38;5;124m'\u001b[39m)\n\u001b[0;32m--> 931\u001b[0m \u001b[38;5;28;01mraise\u001b[39;00m \u001b[38;5;167;01mAttributeError\u001b[39;00m(msg)\n",
      "\u001b[0;31mAttributeError\u001b[0m: \"AnalysisTransform\" object has no attribute \"conv_1\". If \"conv_1\" is defined in '.setup()', remember these fields are only accessible from inside 'init' or 'apply'."
     ]
    }
   ],
   "source": [
    "h.__call__(test_image)"
   ]
  },
  {
   "cell_type": "code",
   "execution_count": 50,
   "id": "4b55ae82-e326-409b-a625-71dea0cd6152",
   "metadata": {},
   "outputs": [
    {
     "ename": "TypeError",
     "evalue": "'ContinuousEntropyModel' object is not callable",
     "output_type": "error",
     "traceback": [
      "\u001b[0;31m---------------------------------------------------------------------------\u001b[0m",
      "\u001b[0;31mTypeError\u001b[0m                                 Traceback (most recent call last)",
      "Cell \u001b[0;32mIn[50], line 4\u001b[0m\n\u001b[1;32m      2\u001b[0m rng \u001b[38;5;241m=\u001b[39m jax\u001b[38;5;241m.\u001b[39mrandom\u001b[38;5;241m.\u001b[39mPRNGKey(\u001b[38;5;241m0\u001b[39m)\n\u001b[1;32m      3\u001b[0m model \u001b[38;5;241m=\u001b[39m MnistCompressionTrainer(latent_dims\u001b[38;5;241m=\u001b[39m\u001b[38;5;241m10\u001b[39m)\n\u001b[0;32m----> 4\u001b[0m params \u001b[38;5;241m=\u001b[39m \u001b[43mmodel\u001b[49m\u001b[38;5;241;43m.\u001b[39;49m\u001b[43minit\u001b[49m\u001b[43m(\u001b[49m\u001b[43mrng\u001b[49m\u001b[43m,\u001b[49m\u001b[43m \u001b[49m\u001b[43mtest_image\u001b[49m\u001b[43m)\u001b[49m\n\u001b[1;32m      6\u001b[0m \u001b[38;5;66;03m# Apply the analysis transform\u001b[39;00m\n\u001b[1;32m      7\u001b[0m z \u001b[38;5;241m=\u001b[39m model\u001b[38;5;241m.\u001b[39mapply({\u001b[38;5;124m'\u001b[39m\u001b[38;5;124mparams\u001b[39m\u001b[38;5;124m'\u001b[39m: params}, test_image)\n",
      "    \u001b[0;31m[... skipping hidden 9 frame]\u001b[0m\n",
      "Cell \u001b[0;32mIn[5], line 12\u001b[0m, in \u001b[0;36mMnistCompressionTrainer.__call__\u001b[0;34m(self, x)\u001b[0m\n\u001b[1;32m     10\u001b[0m z \u001b[38;5;241m=\u001b[39m \u001b[38;5;28mself\u001b[39m\u001b[38;5;241m.\u001b[39manalysis_transform(x)\n\u001b[1;32m     11\u001b[0m x_tilde \u001b[38;5;241m=\u001b[39m \u001b[38;5;28mself\u001b[39m\u001b[38;5;241m.\u001b[39msynthesis_transform(z)\n\u001b[0;32m---> 12\u001b[0m likelihood \u001b[38;5;241m=\u001b[39m \u001b[38;5;28;43mself\u001b[39;49m\u001b[38;5;241;43m.\u001b[39;49m\u001b[43mentropy_model\u001b[49m\u001b[43m(\u001b[49m\u001b[43mz\u001b[49m\u001b[43m)\u001b[49m\n\u001b[1;32m     13\u001b[0m \u001b[38;5;28;01mreturn\u001b[39;00m x_tilde, likelihood\n",
      "\u001b[0;31mTypeError\u001b[0m: 'ContinuousEntropyModel' object is not callable"
     ]
    }
   ],
   "source": [
    "# Initialize the model parameters\n",
    "rng = jax.random.PRNGKey(0)\n",
    "model = MnistCompressionTrainer(latent_dims=10)\n",
    "params = model.init(rng, test_image)\n",
    "\n",
    "# Apply the analysis transform\n",
    "z = model.apply({'params': params}, test_image)\n"
   ]
  },
  {
   "cell_type": "code",
   "execution_count": null,
   "id": "ded6cc48-a5bd-4ee3-a07a-7ce7b3d6074b",
   "metadata": {},
   "outputs": [],
   "source": [
    "codex.ops.soft_round_conditional_mean"
   ]
  },
  {
   "cell_type": "code",
   "execution_count": 5,
   "id": "3cad49de-3d1e-4698-b202-c2d51e385c92",
   "metadata": {},
   "outputs": [],
   "source": [
    "class MnistCompressionTrainer(nn.Module):\n",
    "    latent_dims: int\n",
    "\n",
    "    def setup(self):\n",
    "        self.analysis_transform = AnalysisTransform(self.latent_dims)\n",
    "        self.synthesis_transform = SynthesisTransform()\n",
    "        self.entropy_model = codex.ems.ContinuousEntropyModel()\n",
    "    \n",
    "    def __call__(self, x):\n",
    "        z = self.analysis_transform(x)\n",
    "        x_tilde = self.synthesis_transform(z)\n",
    "        likelihood = self.entropy_model(z)\n",
    "        return x_tilde, likelihood\n",
    "\n",
    "    def train_step(self, state, batch):\n",
    "        def loss_fn(params):\n",
    "            x, _ = batch\n",
    "            x_tilde, likelihood = self.apply({'params': params}, x)\n",
    "            mse = jnp.mean((x - x_tilde)**2)\n",
    "            nll = -jnp.mean(likelihood)\n",
    "            return mse + nll\n",
    "\n",
    "        grad = jax.grad(loss_fn)(state.params)\n",
    "        return state.apply_gradients(grads=grad)\n",
    "\n",
    "def create_train_state(rng, learning_rate, latent_dims):\n",
    "    model = MnistCompressionTrainer(latent_dims)\n",
    "    params = model.init(rng, jnp.ones((1, 28, 28, 1)))\n",
    "    tx = optax.adam(learning_rate)\n",
    "    return train_state.TrainState.create(\n",
    "        apply_fn=model.apply, params=params, tx=tx)"
   ]
  },
  {
   "cell_type": "code",
   "execution_count": 7,
   "id": "74192709-3063-4d85-af28-f44b1fc4599a",
   "metadata": {},
   "outputs": [
    {
     "ename": "TypeError",
     "evalue": "'ContinuousEntropyModel' object is not callable",
     "output_type": "error",
     "traceback": [
      "\u001b[0;31m---------------------------------------------------------------------------\u001b[0m",
      "\u001b[0;31mTypeError\u001b[0m                                 Traceback (most recent call last)",
      "Cell \u001b[0;32mIn[7], line 3\u001b[0m\n\u001b[1;32m      1\u001b[0m \u001b[38;5;66;03m# Instantiate the trainer\u001b[39;00m\n\u001b[1;32m      2\u001b[0m rng \u001b[38;5;241m=\u001b[39m random\u001b[38;5;241m.\u001b[39mPRNGKey(\u001b[38;5;241m0\u001b[39m)\n\u001b[0;32m----> 3\u001b[0m state \u001b[38;5;241m=\u001b[39m \u001b[43mcreate_train_state\u001b[49m\u001b[43m(\u001b[49m\u001b[43mrng\u001b[49m\u001b[43m,\u001b[49m\u001b[43m \u001b[49m\u001b[43mlearning_rate\u001b[49m\u001b[38;5;241;43m=\u001b[39;49m\u001b[38;5;241;43m1e-3\u001b[39;49m\u001b[43m,\u001b[49m\u001b[43m \u001b[49m\u001b[43mlatent_dims\u001b[49m\u001b[38;5;241;43m=\u001b[39;49m\u001b[38;5;241;43m10\u001b[39;49m\u001b[43m)\u001b[49m\n\u001b[1;32m      5\u001b[0m \u001b[38;5;66;03m# Load the dataset\u001b[39;00m\n\u001b[1;32m      6\u001b[0m ds \u001b[38;5;241m=\u001b[39m load_dataset(\u001b[38;5;124m\"\u001b[39m\u001b[38;5;124mmnist\u001b[39m\u001b[38;5;124m\"\u001b[39m)\n",
      "Cell \u001b[0;32mIn[5], line 28\u001b[0m, in \u001b[0;36mcreate_train_state\u001b[0;34m(rng, learning_rate, latent_dims)\u001b[0m\n\u001b[1;32m     26\u001b[0m \u001b[38;5;28;01mdef\u001b[39;00m \u001b[38;5;21mcreate_train_state\u001b[39m(rng, learning_rate, latent_dims):\n\u001b[1;32m     27\u001b[0m     model \u001b[38;5;241m=\u001b[39m MnistCompressionTrainer(latent_dims)\n\u001b[0;32m---> 28\u001b[0m     params \u001b[38;5;241m=\u001b[39m \u001b[43mmodel\u001b[49m\u001b[38;5;241;43m.\u001b[39;49m\u001b[43minit\u001b[49m\u001b[43m(\u001b[49m\u001b[43mrng\u001b[49m\u001b[43m,\u001b[49m\u001b[43m \u001b[49m\u001b[43mjnp\u001b[49m\u001b[38;5;241;43m.\u001b[39;49m\u001b[43mones\u001b[49m\u001b[43m(\u001b[49m\u001b[43m(\u001b[49m\u001b[38;5;241;43m1\u001b[39;49m\u001b[43m,\u001b[49m\u001b[43m \u001b[49m\u001b[38;5;241;43m28\u001b[39;49m\u001b[43m,\u001b[49m\u001b[43m \u001b[49m\u001b[38;5;241;43m28\u001b[39;49m\u001b[43m,\u001b[49m\u001b[43m \u001b[49m\u001b[38;5;241;43m1\u001b[39;49m\u001b[43m)\u001b[49m\u001b[43m)\u001b[49m\u001b[43m)\u001b[49m\n\u001b[1;32m     29\u001b[0m     tx \u001b[38;5;241m=\u001b[39m optax\u001b[38;5;241m.\u001b[39madam(learning_rate)\n\u001b[1;32m     30\u001b[0m     \u001b[38;5;28;01mreturn\u001b[39;00m train_state\u001b[38;5;241m.\u001b[39mTrainState\u001b[38;5;241m.\u001b[39mcreate(\n\u001b[1;32m     31\u001b[0m         apply_fn\u001b[38;5;241m=\u001b[39mmodel\u001b[38;5;241m.\u001b[39mapply, params\u001b[38;5;241m=\u001b[39mparams, tx\u001b[38;5;241m=\u001b[39mtx)\n",
      "    \u001b[0;31m[... skipping hidden 9 frame]\u001b[0m\n",
      "Cell \u001b[0;32mIn[5], line 12\u001b[0m, in \u001b[0;36mMnistCompressionTrainer.__call__\u001b[0;34m(self, x)\u001b[0m\n\u001b[1;32m     10\u001b[0m z \u001b[38;5;241m=\u001b[39m \u001b[38;5;28mself\u001b[39m\u001b[38;5;241m.\u001b[39manalysis_transform(x)\n\u001b[1;32m     11\u001b[0m x_tilde \u001b[38;5;241m=\u001b[39m \u001b[38;5;28mself\u001b[39m\u001b[38;5;241m.\u001b[39msynthesis_transform(z)\n\u001b[0;32m---> 12\u001b[0m likelihood \u001b[38;5;241m=\u001b[39m \u001b[38;5;28;43mself\u001b[39;49m\u001b[38;5;241;43m.\u001b[39;49m\u001b[43mentropy_model\u001b[49m\u001b[43m(\u001b[49m\u001b[43mz\u001b[49m\u001b[43m)\u001b[49m\n\u001b[1;32m     13\u001b[0m \u001b[38;5;28;01mreturn\u001b[39;00m x_tilde, likelihood\n",
      "\u001b[0;31mTypeError\u001b[0m: 'ContinuousEntropyModel' object is not callable"
     ]
    }
   ],
   "source": [
    "# Instantiate the trainer\n",
    "rng = random.PRNGKey(0)\n",
    "state = create_train_state(rng, learning_rate=1e-3, latent_dims=10)\n",
    "\n",
    "# Load the dataset\n",
    "ds = load_dataset(\"mnist\")\n",
    "ds = ds.with_format(\"jax\")\n",
    "\n",
    "# Training loop\n",
    "for epoch in range(10):  # Replace with the number of epochs you want to train for\n",
    "    start_time = time.time()\n",
    "    for batch in ds[\"train\"].iter(batch_size=32):\n",
    "        state = state.train_step(batch)\n",
    "    epoch_time = time.time() - start_time\n",
    "    print(f\"Epoch {epoch} finished in {epoch_time} seconds.\")"
   ]
  },
  {
   "cell_type": "code",
   "execution_count": null,
   "id": "bbafd734-9987-46f0-a417-a98326b1e9e5",
   "metadata": {},
   "outputs": [],
   "source": [
    "codex.ems.ContinuousEntropyModel"
   ]
  }
 ],
 "metadata": {
  "kernelspec": {
   "display_name": "Python 3 (ipykernel)",
   "language": "python",
   "name": "python3"
  },
  "language_info": {
   "codemirror_mode": {
    "name": "ipython",
    "version": 3
   },
   "file_extension": ".py",
   "mimetype": "text/x-python",
   "name": "python",
   "nbconvert_exporter": "python",
   "pygments_lexer": "ipython3",
   "version": "3.10.6"
  }
 },
 "nbformat": 4,
 "nbformat_minor": 5
}
