{
 "cells": [
  {
   "cell_type": "markdown",
   "id": "5589cc93-57ed-4f9d-90c8-95ea6b02fc98",
   "metadata": {},
   "source": [
    "Machine perceptual quality evaluation\n",
    "\n",
    "* Images\n",
    "  * Dataset: [ImageNet-1k](https://huggingface.co/datasets/imagenet-1k)\n",
    "  * Model: [Distilled data-efficient Image Transformer (DeiT)](https://huggingface.co/facebook/deit-small-distilled-patch16-224)\n",
    "  * Metric: Image classification accuracy\n",
    "  * Compression:\n",
    "    * JPEG Q=5/100\n",
    "    * HIFIC\n",
    "    * TFCI\n",
    "* Audio\n",
    "  * Dataset: [Common Voice Corpus 11.0](https://huggingface.co/datasets/mozilla-foundation/common_voice_11_0)\n",
    "  * Model: [Whisper](https://huggingface.co/openai/whisper-small)\n",
    "  * Metric: Speech recognition word error rate\n",
    "  * Compression:\n",
    "    * MP3 kbps\n",
    "    * Descript\n",
    "    * Encodec "
   ]
  },
  {
   "cell_type": "code",
   "execution_count": 1,
   "id": "bb93100c-8646-47f3-bc77-0dd6ef36981a",
   "metadata": {},
   "outputs": [],
   "source": [
    "from datasets import load_dataset\n",
    "from evaluate import evaluator\n",
    "from transformers import pipeline"
   ]
  },
  {
   "cell_type": "code",
   "execution_count": 2,
   "id": "100af2aa-ccf9-4103-bb93-fdf12fd4698c",
   "metadata": {},
   "outputs": [
    {
     "name": "stderr",
     "output_type": "stream",
     "text": [
      "Could not find image processor class in the image processor config or the model config. Loading based on pattern matching with the model's feature extractor configuration.\n"
     ]
    },
    {
     "data": {
      "text/plain": [
       "{'accuracy': 0.81,\n",
       " 'total_time_in_seconds': 1.8894966077059507,\n",
       " 'samples_per_second': 52.924148999352056,\n",
       " 'latency_in_seconds': 0.018894966077059507}"
      ]
     },
     "execution_count": 2,
     "metadata": {},
     "output_type": "execute_result"
    }
   ],
   "source": [
    "data = load_dataset(\"imagenet-1k\", split=\"validation[:100]\")\n",
    "\n",
    "pipe = pipeline(\n",
    "    task=\"image-classification\",\n",
    "    model=\"facebook/deit-small-distilled-patch16-224\"\n",
    ")\n",
    "\n",
    "task_evaluator = evaluator(\"image-classification\")\n",
    "eval_results = task_evaluator.compute(\n",
    "    model_or_pipeline=pipe,\n",
    "    data=data,\n",
    "    metric=\"accuracy\",\n",
    "    label_mapping=pipe.model.config.label2id\n",
    ")\n",
    "eval_results"
   ]
  },
  {
   "cell_type": "code",
   "execution_count": 3,
   "id": "f458507a-60b7-425a-a1ac-94415b311de2",
   "metadata": {},
   "outputs": [
    {
     "data": {
      "text/plain": [
       "{'wer': 0.24324324324324326,\n",
       " 'total_time_in_seconds': 36.000162658281624,\n",
       " 'samples_per_second': 1.11110609081646,\n",
       " 'latency_in_seconds': 0.9000040664570407}"
      ]
     },
     "execution_count": 3,
     "metadata": {},
     "output_type": "execute_result"
    }
   ],
   "source": [
    "data = load_dataset(\"mozilla-foundation/common_voice_11_0\", \"en\", split=\"validation[:40]\")\n",
    "\n",
    "pipe = pipeline(\n",
    "    task=\"automatic-speech-recognition\",\n",
    "    model=\"openai/whisper-small\",\n",
    ")\n",
    "\n",
    "task_evaluator = evaluator(\"automatic-speech-recognition\")\n",
    "task_evaluator.PIPELINE_KWARGS.pop('truncation', None)\n",
    "\n",
    "eval_results = task_evaluator.compute(\n",
    "    model_or_pipeline=pipe,\n",
    "    data=data,\n",
    "    input_column=\"audio\",\n",
    "    label_column=\"sentence\",\n",
    "    metric=\"wer\",\n",
    ")\n",
    "eval_results"
   ]
  }
 ],
 "metadata": {
  "kernelspec": {
   "display_name": "Python 3 (ipykernel)",
   "language": "python",
   "name": "python3"
  },
  "language_info": {
   "codemirror_mode": {
    "name": "ipython",
    "version": 3
   },
   "file_extension": ".py",
   "mimetype": "text/x-python",
   "name": "python",
   "nbconvert_exporter": "python",
   "pygments_lexer": "ipython3",
   "version": "3.10.12"
  }
 },
 "nbformat": 4,
 "nbformat_minor": 5
}
