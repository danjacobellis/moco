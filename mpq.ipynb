{
 "cells": [
  {
   "cell_type": "markdown",
   "id": "5589cc93-57ed-4f9d-90c8-95ea6b02fc98",
   "metadata": {},
   "source": [
    "Machine perceptual quality evaluation\n",
    "\n",
    "* Images\n",
    "  * Dataset: [ImageNet-1k](https://huggingface.co/datasets/imagenet-1k)\n",
    "  * Model: [Distilled data-efficient Image Transformer (DeiT)](https://huggingface.co/facebook/deit-small-distilled-patch16-224)\n",
    "  * Metric: Image classification accuracy\n",
    "  * Compression:\n",
    "    * JPEG Q=5/100\n",
    "    * HIFIC\n",
    "    * TFCI\n",
    "* Audio\n",
    "  * Dataset: [Common Voice Corpus 11.0](https://huggingface.co/datasets/mozilla-foundation/common_voice_11_0)\n",
    "  * Model: [Whisper](https://huggingface.co/openai/whisper-small)\n",
    "  * Metric: Speech recognition word error rate\n",
    "  * Compression:\n",
    "    * MP3 kbps\n",
    "    * Descript\n",
    "    * Encodec "
   ]
  },
  {
   "cell_type": "code",
   "execution_count": 48,
   "id": "bb93100c-8646-47f3-bc77-0dd6ef36981a",
   "metadata": {},
   "outputs": [],
   "source": [
    "from datasets import load_dataset\n",
    "import PIL\n",
    "import torchaudio\n",
    "import evaluate\n",
    "from evaluate import evaluator\n",
    "from transformers import pipeline\n",
    "from io import BytesIO\n",
    "import encodec\n",
    "import torch\n",
    "import numpy as np\n",
    "from compressai.zoo import bmshj2018_factorized\n",
    "from torchvision import transforms"
   ]
  },
  {
   "cell_type": "code",
   "execution_count": 2,
   "id": "c6b8a459-6e2b-4704-81b7-260e99817367",
   "metadata": {},
   "outputs": [],
   "source": [
    "def jpeg_compress_quality_5(sample):\n",
    "    img = sample['image']\n",
    "    with BytesIO() as f:\n",
    "        img.save(f, format='JPEG',quality=5)\n",
    "        img = f.getvalue()\n",
    "    sample['image'] = img\n",
    "    return sample"
   ]
  },
  {
   "cell_type": "code",
   "execution_count": 3,
   "id": "e0230ebe-b2f7-4f4a-8e1a-68b3a2fe6ad1",
   "metadata": {},
   "outputs": [
    {
     "name": "stderr",
     "output_type": "stream",
     "text": [
      "Downloading: \"https://compressai.s3.amazonaws.com/models/v1/bmshj2018-factorized-prior-2-87279a02.pth.tar\" to /home/dan/.cache/torch/hub/checkpoints/bmshj2018-factorized-prior-2-87279a02.pth.tar\n",
      "100%|██████████████████████████| 11.5M/11.5M [00:02<00:00, 5.51MB/s]\n"
     ]
    }
   ],
   "source": [
    "net = bmshj2018_factorized(quality=2, pretrained=True).eval()\n",
    "def rdae_compress(sample):\n",
    "    img = sample['image']\n",
    "\n",
    "    if (img.mode == 'L') | (img.mode == 'CMYK') | (img.mode == 'RGBA'):\n",
    "        rgbimg = PIL.Image.new(\"RGB\", img.size)\n",
    "        rgbimg.paste(img)\n",
    "        img = rgbimg\n",
    "\n",
    "    x = transforms.ToTensor()(img).unsqueeze(0)\n",
    "    with torch.no_grad():\n",
    "        out_net = net.forward(x)\n",
    "    out_net['x_hat'].clamp_(0, 1)\n",
    "    sample['image'] = transforms.ToPILImage()(out_net['x_hat'].squeeze())\n",
    "\n",
    "    return sample"
   ]
  },
  {
   "cell_type": "code",
   "execution_count": 4,
   "id": "ebdbb014-f25c-4a23-b769-65174d8b67dc",
   "metadata": {},
   "outputs": [],
   "source": [
    "def mp3_compress_quality_8(sample):\n",
    "    try:\n",
    "        audio = sample['audio']['array'].unsqueeze(0)\n",
    "        fs = sample['audio']['sampling_rate']\n",
    "        with BytesIO() as f:\n",
    "            torchaudio.save(f, audio, sample_rate=fs, format=\"mp3\", compression=8)\n",
    "            f.seek(0)\n",
    "            audio = torchaudio.load(f,format=\"mp3\")\n",
    "        sample['audio']['array'] = audio[0][0]\n",
    "    except:\n",
    "        pass\n",
    "    return sample"
   ]
  },
  {
   "cell_type": "code",
   "execution_count": 5,
   "id": "ea26cb9b-91e1-4e60-ad77-3546ce3c65a6",
   "metadata": {},
   "outputs": [],
   "source": [
    "model = encodec.EncodecModel.encodec_model_48khz()\n",
    "model.set_target_bandwidth(3)\n",
    "\n",
    "def encodec_compress(sample):\n",
    "    audio = sample['audio']['array'].unsqueeze(0)\n",
    "    fs = sample['audio']['sampling_rate']\n",
    "    audio = encodec.utils.convert_audio(audio,fs,model.sample_rate,model.channels)\n",
    "    with torch.no_grad():\n",
    "        encoded_frames = model.encode(audio.unsqueeze(0))\n",
    "        sample['audio']['array'] = model.decode(encoded_frames).mean(dim=[0,1]) \n",
    "    return sample"
   ]
  },
  {
   "cell_type": "code",
   "execution_count": 6,
   "id": "100af2aa-ccf9-4103-bb93-fdf12fd4698c",
   "metadata": {},
   "outputs": [
    {
     "data": {
      "application/vnd.jupyter.widget-view+json": {
       "model_id": "3479bbfe7bfb446dbe23a8a9cb458165",
       "version_major": 2,
       "version_minor": 0
      },
      "text/plain": [
       "Map:   0%|          | 0/100 [00:00<?, ? examples/s]"
      ]
     },
     "metadata": {},
     "output_type": "display_data"
    }
   ],
   "source": [
    "data = load_dataset(\"imagenet-1k\", split=\"validation[:100]\")\n",
    "jpeg_q5 = data.map(jpeg_compress_quality_5)\n",
    "rdae = data.map(rdae_compress)"
   ]
  },
  {
   "cell_type": "code",
   "execution_count": 7,
   "id": "34f83e94-0458-41dc-a8ac-69fc245de73a",
   "metadata": {},
   "outputs": [
    {
     "name": "stderr",
     "output_type": "stream",
     "text": [
      "Could not find image processor class in the image processor config or the model config. Loading based on pattern matching with the model's feature extractor configuration.\n"
     ]
    }
   ],
   "source": [
    "pipe = pipeline(\n",
    "    task=\"image-classification\",\n",
    "    model=\"facebook/deit-small-distilled-patch16-224\"\n",
    ")\n",
    "\n",
    "task_evaluator = evaluator(\"image-classification\")"
   ]
  },
  {
   "cell_type": "code",
   "execution_count": 8,
   "id": "b33b1c81-2c1d-4ab6-ac8e-e15a2fa8eb61",
   "metadata": {},
   "outputs": [
    {
     "data": {
      "text/plain": [
       "{'accuracy': 0.81,\n",
       " 'total_time_in_seconds': 2.0621120198629797,\n",
       " 'samples_per_second': 48.49397076238596,\n",
       " 'latency_in_seconds': 0.020621120198629796}"
      ]
     },
     "execution_count": 8,
     "metadata": {},
     "output_type": "execute_result"
    }
   ],
   "source": [
    "eval_results = task_evaluator.compute(\n",
    "    model_or_pipeline=pipe,\n",
    "    data=data,\n",
    "    metric=\"accuracy\",\n",
    "    label_mapping=pipe.model.config.label2id\n",
    ")\n",
    "eval_results"
   ]
  },
  {
   "cell_type": "code",
   "execution_count": 9,
   "id": "0e81a34a-cda3-42ff-8e31-4a04d75291af",
   "metadata": {},
   "outputs": [
    {
     "data": {
      "text/plain": [
       "{'accuracy': 0.7,\n",
       " 'total_time_in_seconds': 1.8150526769459248,\n",
       " 'samples_per_second': 55.09481970973081,\n",
       " 'latency_in_seconds': 0.018150526769459246}"
      ]
     },
     "execution_count": 9,
     "metadata": {},
     "output_type": "execute_result"
    }
   ],
   "source": [
    "eval_results = task_evaluator.compute(\n",
    "    model_or_pipeline=pipe,\n",
    "    data=jpeg_q5,\n",
    "    metric=\"accuracy\",\n",
    "    label_mapping=pipe.model.config.label2id\n",
    ")\n",
    "eval_results"
   ]
  },
  {
   "cell_type": "code",
   "execution_count": 10,
   "id": "b3436a39-e3fc-423e-9792-0d8053957c08",
   "metadata": {},
   "outputs": [
    {
     "data": {
      "text/plain": [
       "{'accuracy': 0.78,\n",
       " 'total_time_in_seconds': 2.293169038835913,\n",
       " 'samples_per_second': 43.60777522566031,\n",
       " 'latency_in_seconds': 0.02293169038835913}"
      ]
     },
     "execution_count": 10,
     "metadata": {},
     "output_type": "execute_result"
    }
   ],
   "source": [
    "eval_results = task_evaluator.compute(\n",
    "    model_or_pipeline=pipe,\n",
    "    data=rdae,\n",
    "    metric=\"accuracy\",\n",
    "    label_mapping=pipe.model.config.label2id\n",
    ")\n",
    "eval_results"
   ]
  },
  {
   "cell_type": "code",
   "execution_count": 11,
   "id": "f458507a-60b7-425a-a1ac-94415b311de2",
   "metadata": {},
   "outputs": [
    {
     "data": {
      "application/vnd.jupyter.widget-view+json": {
       "model_id": "d9437479d691405f8e4072e6cec79349",
       "version_major": 2,
       "version_minor": 0
      },
      "text/plain": [
       "Map:   0%|          | 0/40 [00:00<?, ? examples/s]"
      ]
     },
     "metadata": {},
     "output_type": "display_data"
    },
    {
     "name": "stderr",
     "output_type": "stream",
     "text": [
      "/home/dan/.local/lib/python3.10/site-packages/torchaudio/backend/sox_io_backend.py:416: UserWarning: File-like object support in sox_io backend is deprecated, and will be removed in v2.1. See https://github.com/pytorch/audio/issues/2950 for the detail.Please migrate to the new dispatcher, or use soundfile backend.\n",
      "  warnings.warn(_deprecation_message)\n",
      "formats: mp3 can't encode MPEG audio (layer I, II or III) to 16-bit\n",
      "formats: mp3 can't encode MPEG audio (layer I, II or III) to 16-bit\n",
      "formats: mp3 can't encode MPEG audio (layer I, II or III) to 16-bit\n",
      "formats: mp3 can't encode MPEG audio (layer I, II or III) to 16-bit\n",
      "formats: mp3 can't encode MPEG audio (layer I, II or III) to 16-bit\n",
      "formats: mp3 can't encode MPEG audio (layer I, II or III) to 16-bit\n",
      "formats: mp3 can't encode MPEG audio (layer I, II or III) to 16-bit\n",
      "formats: mp3 can't encode MPEG audio (layer I, II or III) to 16-bit\n",
      "formats: mp3 can't encode MPEG audio (layer I, II or III) to 16-bit\n",
      "formats: mp3 can't encode MPEG audio (layer I, II or III) to 16-bit\n",
      "formats: mp3 can't encode MPEG audio (layer I, II or III) to 16-bit\n",
      "formats: mp3 can't encode MPEG audio (layer I, II or III) to 16-bit\n",
      "formats: mp3 can't encode MPEG audio (layer I, II or III) to 16-bit\n",
      "formats: mp3 can't encode MPEG audio (layer I, II or III) to 16-bit\n",
      "formats: mp3 can't encode MPEG audio (layer I, II or III) to 16-bit\n",
      "formats: mp3 can't encode MPEG audio (layer I, II or III) to 16-bit\n",
      "formats: mp3 can't encode MPEG audio (layer I, II or III) to 16-bit\n",
      "formats: mp3 can't encode MPEG audio (layer I, II or III) to 16-bit\n",
      "formats: mp3 can't encode MPEG audio (layer I, II or III) to 16-bit\n",
      "formats: mp3 can't encode MPEG audio (layer I, II or III) to 16-bit\n",
      "formats: mp3 can't encode MPEG audio (layer I, II or III) to 16-bit\n",
      "formats: mp3 can't encode MPEG audio (layer I, II or III) to 16-bit\n",
      "formats: mp3 can't encode MPEG audio (layer I, II or III) to 16-bit\n",
      "formats: mp3 can't encode MPEG audio (layer I, II or III) to 16-bit\n",
      "formats: mp3 can't encode MPEG audio (layer I, II or III) to 16-bit\n",
      "formats: mp3 can't encode MPEG audio (layer I, II or III) to 16-bit\n",
      "formats: mp3 can't encode MPEG audio (layer I, II or III) to 16-bit\n",
      "formats: mp3 can't encode MPEG audio (layer I, II or III) to 16-bit\n",
      "formats: mp3 can't encode MPEG audio (layer I, II or III) to 16-bit\n",
      "formats: mp3 can't encode MPEG audio (layer I, II or III) to 16-bit\n",
      "formats: mp3 can't encode MPEG audio (layer I, II or III) to 16-bit\n",
      "formats: mp3 can't encode MPEG audio (layer I, II or III) to 16-bit\n",
      "formats: mp3 can't encode MPEG audio (layer I, II or III) to 16-bit\n",
      "formats: mp3 can't encode MPEG audio (layer I, II or III) to 16-bit\n",
      "formats: mp3 can't encode MPEG audio (layer I, II or III) to 16-bit\n",
      "formats: mp3 can't encode MPEG audio (layer I, II or III) to 16-bit\n",
      "formats: mp3 can't encode MPEG audio (layer I, II or III) to 16-bit\n",
      "formats: mp3 can't encode MPEG audio (layer I, II or III) to 16-bit\n",
      "formats: mp3 can't encode MPEG audio (layer I, II or III) to 16-bit\n",
      "formats: mp3 can't encode MPEG audio (layer I, II or III) to 16-bit\n"
     ]
    },
    {
     "data": {
      "application/vnd.jupyter.widget-view+json": {
       "model_id": "8b19cab92a3c4749bae5d9c5189d8169",
       "version_major": 2,
       "version_minor": 0
      },
      "text/plain": [
       "Map:   0%|          | 0/40 [00:00<?, ? examples/s]"
      ]
     },
     "metadata": {},
     "output_type": "display_data"
    }
   ],
   "source": [
    "data = load_dataset(\"mozilla-foundation/common_voice_11_0\", \"en\", split=\"validation[:40]\")\n",
    "mp3_q8 = data.with_format(\"torch\").map(mp3_compress_quality_8).with_format('numpy')\n",
    "encodec_q48 = data.with_format(\"torch\").map(encodec_compress).with_format(\"numpy\")"
   ]
  },
  {
   "cell_type": "code",
   "execution_count": 12,
   "id": "bb09bcb8-65d7-44b0-aade-7e9b1e23a90c",
   "metadata": {},
   "outputs": [
    {
     "data": {
      "text/plain": [
       "True"
      ]
     },
     "execution_count": 12,
     "metadata": {},
     "output_type": "execute_result"
    }
   ],
   "source": [
    "pipe = pipeline(\n",
    "    task=\"automatic-speech-recognition\",\n",
    "    model=\"openai/whisper-small\",\n",
    ")\n",
    "\n",
    "task_evaluator = evaluator(\"automatic-speech-recognition\")\n",
    "task_evaluator.PIPELINE_KWARGS.pop('truncation', None)"
   ]
  },
  {
   "cell_type": "code",
   "execution_count": 13,
   "id": "e2f09aee-1e93-4e6f-a372-f23fc9b27261",
   "metadata": {},
   "outputs": [
    {
     "data": {
      "text/plain": [
       "{'wer': 0.24324324324324326,\n",
       " 'total_time_in_seconds': 31.928794587031007,\n",
       " 'samples_per_second': 1.2527876644690932,\n",
       " 'latency_in_seconds': 0.7982198646757752}"
      ]
     },
     "execution_count": 13,
     "metadata": {},
     "output_type": "execute_result"
    }
   ],
   "source": [
    "eval_results = task_evaluator.compute(\n",
    "    model_or_pipeline=pipe,\n",
    "    data=data,\n",
    "    input_column=\"audio\",\n",
    "    label_column=\"sentence\",\n",
    "    metric=\"wer\",\n",
    ")\n",
    "eval_results"
   ]
  },
  {
   "cell_type": "code",
   "execution_count": 14,
   "id": "3fe820a0-c277-4022-bdae-ad41ce3f06b7",
   "metadata": {},
   "outputs": [
    {
     "data": {
      "text/plain": [
       "{'wer': 0.327027027027027,\n",
       " 'total_time_in_seconds': 34.731284122914076,\n",
       " 'samples_per_second': 1.1516994263281464,\n",
       " 'latency_in_seconds': 0.8682821030728519}"
      ]
     },
     "execution_count": 14,
     "metadata": {},
     "output_type": "execute_result"
    }
   ],
   "source": [
    "eval_results = task_evaluator.compute(\n",
    "    model_or_pipeline=pipe,\n",
    "    data=mp3_q8,\n",
    "    input_column=\"audio\",\n",
    "    label_column=\"sentence\",\n",
    "    metric=\"wer\",\n",
    ")\n",
    "eval_results"
   ]
  },
  {
   "cell_type": "code",
   "execution_count": 15,
   "id": "2590f35e-6f54-433a-bfb4-70454dd2f360",
   "metadata": {},
   "outputs": [
    {
     "data": {
      "text/plain": [
       "{'wer': 0.5054054054054054,\n",
       " 'total_time_in_seconds': 34.0187990241684,\n",
       " 'samples_per_second': 1.1758204624326185,\n",
       " 'latency_in_seconds': 0.85046997560421}"
      ]
     },
     "execution_count": 15,
     "metadata": {},
     "output_type": "execute_result"
    }
   ],
   "source": [
    "eval_results = task_evaluator.compute(\n",
    "    model_or_pipeline=pipe,\n",
    "    data=encodec_q48,\n",
    "    input_column=\"audio\",\n",
    "    label_column=\"sentence\",\n",
    "    metric=\"wer\",\n",
    ")\n",
    "eval_results"
   ]
  },
  {
   "cell_type": "code",
   "execution_count": 24,
   "id": "5451f3ef-5f4a-4fa2-a9ef-433608a5b52e",
   "metadata": {},
   "outputs": [
    {
     "data": {
      "application/vnd.jupyter.widget-view+json": {
       "model_id": "3ca76b6587f74dc2bb46c2986abf82f6",
       "version_major": 2,
       "version_minor": 0
      },
      "text/plain": [
       "Downloading data files:   0%|          | 0/2 [00:00<?, ?it/s]"
      ]
     },
     "metadata": {},
     "output_type": "display_data"
    },
    {
     "data": {
      "application/vnd.jupyter.widget-view+json": {
       "model_id": "41f7b601c33c4507ac40106895f4ce31",
       "version_major": 2,
       "version_minor": 0
      },
      "text/plain": [
       "Downloading data:   0%|          | 0.00/967M [00:00<?, ?B/s]"
      ]
     },
     "metadata": {},
     "output_type": "display_data"
    },
    {
     "data": {
      "application/vnd.jupyter.widget-view+json": {
       "model_id": "c79a69eb66b443a0a1ac22ad1c2dd8e5",
       "version_major": 2,
       "version_minor": 0
      },
      "text/plain": [
       "Downloading data:   0%|          | 0.00/212M [00:00<?, ?B/s]"
      ]
     },
     "metadata": {},
     "output_type": "display_data"
    },
    {
     "data": {
      "application/vnd.jupyter.widget-view+json": {
       "model_id": "80fcbdf92e184a0bb6d6ef57c871f89b",
       "version_major": 2,
       "version_minor": 0
      },
      "text/plain": [
       "Extracting data files:   0%|          | 0/2 [00:00<?, ?it/s]"
      ]
     },
     "metadata": {},
     "output_type": "display_data"
    },
    {
     "data": {
      "application/vnd.jupyter.widget-view+json": {
       "model_id": "7d66ed1a44fe4b0ba8311a65d9617fdd",
       "version_major": 2,
       "version_minor": 0
      },
      "text/plain": [
       "Generating train split:   0%|          | 0/20210 [00:00<?, ? examples/s]"
      ]
     },
     "metadata": {},
     "output_type": "display_data"
    },
    {
     "data": {
      "application/vnd.jupyter.widget-view+json": {
       "model_id": "bef23990e8f64fe8b29877b607402717",
       "version_major": 2,
       "version_minor": 0
      },
      "text/plain": [
       "Generating test split:   0%|          | 0/3352 [00:00<?, ? examples/s]"
      ]
     },
     "metadata": {},
     "output_type": "display_data"
    },
    {
     "data": {
      "application/vnd.jupyter.widget-view+json": {
       "model_id": "3813c9a7dccb4a3598158eaf2f4cd340",
       "version_major": 2,
       "version_minor": 0
      },
      "text/plain": [
       "Generating validation split:   0%|          | 0/2000 [00:00<?, ? examples/s]"
      ]
     },
     "metadata": {},
     "output_type": "display_data"
    }
   ],
   "source": [
    "data = load_dataset(\"scene_parse_150\",split='validation')"
   ]
  },
  {
   "cell_type": "code",
   "execution_count": 21,
   "id": "7d96de68-155a-4bd3-bfe9-6b5f1730aeb0",
   "metadata": {},
   "outputs": [
    {
     "data": {
      "application/vnd.jupyter.widget-view+json": {
       "model_id": "716a9cc6b6d34a8db6b301989969270d",
       "version_major": 2,
       "version_minor": 0
      },
      "text/plain": [
       "Downloading pytorch_model.bin:   0%|          | 0.00/15.1M [00:00<?, ?B/s]"
      ]
     },
     "metadata": {},
     "output_type": "display_data"
    },
    {
     "data": {
      "application/vnd.jupyter.widget-view+json": {
       "model_id": "48affea185f24306b2e3e50bf8aced7b",
       "version_major": 2,
       "version_minor": 0
      },
      "text/plain": [
       "Downloading (…)rocessor_config.json:   0%|          | 0.00/271 [00:00<?, ?B/s]"
      ]
     },
     "metadata": {},
     "output_type": "display_data"
    },
    {
     "name": "stderr",
     "output_type": "stream",
     "text": [
      "Could not find image processor class in the image processor config or the model config. Loading based on pattern matching with the model's feature extractor configuration.\n",
      "/home/dan/.local/lib/python3.10/site-packages/transformers/models/segformer/image_processing_segformer.py:101: FutureWarning: The `reduce_labels` parameter is deprecated and will be removed in a future version. Please use `do_reduce_labels` instead.\n",
      "  warnings.warn(\n"
     ]
    }
   ],
   "source": [
    "pipe = pipeline(\n",
    "    task=\"image-segmentation\",\n",
    "    model=\"nvidia/segformer-b0-finetuned-ade-512-512\",\n",
    ")"
   ]
  },
  {
   "cell_type": "code",
   "execution_count": 35,
   "id": "c21045f1-a6e3-4a45-9fd5-03788386bba1",
   "metadata": {},
   "outputs": [
    {
     "data": {
      "application/vnd.jupyter.widget-view+json": {
       "model_id": "1d167a54424e4ee790222118b48d3d06",
       "version_major": 2,
       "version_minor": 0
      },
      "text/plain": [
       "Downloading builder script:   0%|          | 0.00/13.1k [00:00<?, ?B/s]"
      ]
     },
     "metadata": {},
     "output_type": "display_data"
    }
   ],
   "source": [
    "mean_iou = evaluate.load(\"mean_iou\")"
   ]
  },
  {
   "cell_type": "code",
   "execution_count": 182,
   "id": "327a438b-b0e2-4ef6-ad42-b188d7bf0540",
   "metadata": {},
   "outputs": [
    {
     "name": "stderr",
     "output_type": "stream",
     "text": [
      "/home/dan/.local/lib/python3.10/site-packages/transformers/models/segformer/feature_extraction_segformer.py:28: FutureWarning: The class SegformerFeatureExtractor is deprecated and will be removed in version 5 of Transformers. Please use SegformerImageProcessor instead.\n",
      "  warnings.warn(\n",
      "/home/dan/.local/lib/python3.10/site-packages/transformers/models/segformer/image_processing_segformer.py:101: FutureWarning: The `reduce_labels` parameter is deprecated and will be removed in a future version. Please use `do_reduce_labels` instead.\n",
      "  warnings.warn(\n"
     ]
    }
   ],
   "source": [
    "from transformers import AutoFeatureExtractor, SegformerForSemanticSegmentation\n",
    "from transformers import SegformerImageProcessor, SegformerForSemanticSegmentation\n",
    "\n",
    "extractor = AutoFeatureExtractor.from_pretrained(\"nvidia/segformer-b0-finetuned-ade-512-512\")\n",
    "model = SegformerForSemanticSegmentation.from_pretrained(\"nvidia/segformer-b0-finetuned-ade-512-512\")\n",
    "\n",
    "inputs = extractor(images=data[0]['image'], return_tensors=\"pt\",do_resize=False)\n",
    "outputs = model(**inputs)\n",
    "logits = outputs.logits  # shape (batch_size, num_labels, height/4, width/4)\n",
    "predictions = logits.argmax(dim=1)[0].detach().unsqueeze(0).unsqueeze(0)\n",
    "resize = transforms.Resize((375,500),antialias=True)\n",
    "predictions = resize(predictions)[0][0]"
   ]
  },
  {
   "cell_type": "code",
   "execution_count": 183,
   "id": "47da9bff-7564-4b24-a319-091cc98d60c3",
   "metadata": {},
   "outputs": [
    {
     "data": {
      "text/plain": [
       "<matplotlib.image.AxesImage at 0x7f31bd47beb0>"
      ]
     },
     "execution_count": 183,
     "metadata": {},
     "output_type": "execute_result"
    },
    {
     "data": {
      "image/png": "[encoded data removed]",
      "text/plain": [
       "<Figure size 640x480 with 1 Axes>"
      ]
     },
     "metadata": {},
     "output_type": "display_data"
    }
   ],
   "source": [
    "ground_truth = np.array(data[0]['annotation'])\n",
    "plt.imshow(ground_truth)"
   ]
  },
  {
   "cell_type": "code",
   "execution_count": 184,
   "id": "ec09575f-6369-45ae-99bf-6069a57a8d62",
   "metadata": {},
   "outputs": [
    {
     "data": {
      "text/plain": [
       "<matplotlib.image.AxesImage at 0x7f31bd44ef20>"
      ]
     },
     "execution_count": 184,
     "metadata": {},
     "output_type": "execute_result"
    },
    {
     "data": {
      "image/png": "[encoded data removed]",
      "text/plain": [
       "<Figure size 640x480 with 1 Axes>"
      ]
     },
     "metadata": {},
     "output_type": "display_data"
    }
   ],
   "source": [
    "plt.imshow(predictions)"
   ]
  },
  {
   "cell_type": "code",
   "execution_count": 194,
   "id": "478645a7-5731-4ea0-bebb-2be41d040516",
   "metadata": {},
   "outputs": [
    {
     "ename": "ValueError",
     "evalue": "Predictions and/or references don't match the expected format.\nExpected format: {'predictions': Sequence(feature=Sequence(feature=Value(dtype='uint16', id=None), length=-1, id=None), length=-1, id=None), 'references': Sequence(feature=Sequence(feature=Value(dtype='uint16', id=None), length=-1, id=None), length=-1, id=None)},\nInput predictions: [[5 5 5 ... 5 5 5]\n [5 5 5 ... 5 5 5]\n [5 5 5 ... 5 5 5]\n ...\n [3 3 3 ... 0 0 0]\n [3 3 3 ... 0 0 0]\n [3 3 3 ... 0 0 0]],\nInput references: [[6 6 6 ... 6 6 6]\n [6 6 6 ... 6 6 6]\n [6 6 6 ... 6 6 6]\n ...\n [4 4 4 ... 1 1 1]\n [4 4 4 ... 1 1 1]\n [0 0 0 ... 0 0 0]]",
     "output_type": "error",
     "traceback": [
      "\u001b[0;31m---------------------------------------------------------------------------\u001b[0m",
      "\u001b[0;31mValueError\u001b[0m                                Traceback (most recent call last)",
      "Cell \u001b[0;32mIn[194], line 1\u001b[0m\n\u001b[0;32m----> 1\u001b[0m \u001b[43mmean_iou\u001b[49m\u001b[38;5;241;43m.\u001b[39;49m\u001b[43mcompute\u001b[49m\u001b[43m(\u001b[49m\n\u001b[1;32m      2\u001b[0m \u001b[43m    \u001b[49m\u001b[43mpredictions\u001b[49m\u001b[38;5;241;43m=\u001b[39;49m\u001b[43mnp\u001b[49m\u001b[38;5;241;43m.\u001b[39;49m\u001b[43marray\u001b[49m\u001b[43m(\u001b[49m\u001b[43mpredictions\u001b[49m\u001b[43m)\u001b[49m\u001b[43m,\u001b[49m\n\u001b[1;32m      3\u001b[0m \u001b[43m    \u001b[49m\u001b[43mreferences\u001b[49m\u001b[38;5;241;43m=\u001b[39;49m\u001b[43mnp\u001b[49m\u001b[38;5;241;43m.\u001b[39;49m\u001b[43marray\u001b[49m\u001b[43m(\u001b[49m\u001b[43mground_truth\u001b[49m\u001b[43m)\u001b[49m\u001b[43m,\u001b[49m\n\u001b[1;32m      4\u001b[0m \u001b[43m)\u001b[49m\n",
      "File \u001b[0;32m~/.local/lib/python3.10/site-packages/evaluate/module.py:432\u001b[0m, in \u001b[0;36mEvaluationModule.compute\u001b[0;34m(self, predictions, references, **kwargs)\u001b[0m\n\u001b[1;32m    429\u001b[0m compute_kwargs \u001b[38;5;241m=\u001b[39m {k: kwargs[k] \u001b[38;5;28;01mfor\u001b[39;00m k \u001b[38;5;129;01min\u001b[39;00m kwargs \u001b[38;5;28;01mif\u001b[39;00m k \u001b[38;5;129;01mnot\u001b[39;00m \u001b[38;5;129;01min\u001b[39;00m \u001b[38;5;28mself\u001b[39m\u001b[38;5;241m.\u001b[39m_feature_names()}\n\u001b[1;32m    431\u001b[0m \u001b[38;5;28;01mif\u001b[39;00m \u001b[38;5;28many\u001b[39m(v \u001b[38;5;129;01mis\u001b[39;00m \u001b[38;5;129;01mnot\u001b[39;00m \u001b[38;5;28;01mNone\u001b[39;00m \u001b[38;5;28;01mfor\u001b[39;00m v \u001b[38;5;129;01min\u001b[39;00m inputs\u001b[38;5;241m.\u001b[39mvalues()):\n\u001b[0;32m--> 432\u001b[0m     \u001b[38;5;28;43mself\u001b[39;49m\u001b[38;5;241;43m.\u001b[39;49m\u001b[43madd_batch\u001b[49m\u001b[43m(\u001b[49m\u001b[38;5;241;43m*\u001b[39;49m\u001b[38;5;241;43m*\u001b[39;49m\u001b[43minputs\u001b[49m\u001b[43m)\u001b[49m\n\u001b[1;32m    433\u001b[0m \u001b[38;5;28mself\u001b[39m\u001b[38;5;241m.\u001b[39m_finalize()\n\u001b[1;32m    435\u001b[0m \u001b[38;5;28mself\u001b[39m\u001b[38;5;241m.\u001b[39mcache_file_name \u001b[38;5;241m=\u001b[39m \u001b[38;5;28;01mNone\u001b[39;00m\n",
      "File \u001b[0;32m~/.local/lib/python3.10/site-packages/evaluate/module.py:512\u001b[0m, in \u001b[0;36mEvaluationModule.add_batch\u001b[0;34m(self, predictions, references, **kwargs)\u001b[0m\n\u001b[1;32m    505\u001b[0m \u001b[38;5;28;01melse\u001b[39;00m:\n\u001b[1;32m    506\u001b[0m     error_msg \u001b[38;5;241m=\u001b[39m (\n\u001b[1;32m    507\u001b[0m         \u001b[38;5;124mf\u001b[39m\u001b[38;5;124m\"\u001b[39m\u001b[38;5;124mPredictions and/or references don\u001b[39m\u001b[38;5;124m'\u001b[39m\u001b[38;5;124mt match the expected format.\u001b[39m\u001b[38;5;130;01m\\n\u001b[39;00m\u001b[38;5;124m\"\u001b[39m\n\u001b[1;32m    508\u001b[0m         \u001b[38;5;124mf\u001b[39m\u001b[38;5;124m\"\u001b[39m\u001b[38;5;124mExpected format: \u001b[39m\u001b[38;5;132;01m{\u001b[39;00m\u001b[38;5;28mself\u001b[39m\u001b[38;5;241m.\u001b[39mselected_feature_format\u001b[38;5;250m \u001b[39m\u001b[38;5;132;01m}\u001b[39;00m\u001b[38;5;124m,\u001b[39m\u001b[38;5;130;01m\\n\u001b[39;00m\u001b[38;5;124m\"\u001b[39m\n\u001b[1;32m    509\u001b[0m         \u001b[38;5;124mf\u001b[39m\u001b[38;5;124m\"\u001b[39m\u001b[38;5;124mInput predictions: \u001b[39m\u001b[38;5;132;01m{\u001b[39;00msummarize_if_long_list(predictions)\u001b[38;5;132;01m}\u001b[39;00m\u001b[38;5;124m,\u001b[39m\u001b[38;5;130;01m\\n\u001b[39;00m\u001b[38;5;124m\"\u001b[39m\n\u001b[1;32m    510\u001b[0m         \u001b[38;5;124mf\u001b[39m\u001b[38;5;124m\"\u001b[39m\u001b[38;5;124mInput references: \u001b[39m\u001b[38;5;132;01m{\u001b[39;00msummarize_if_long_list(references)\u001b[38;5;132;01m}\u001b[39;00m\u001b[38;5;124m\"\u001b[39m\n\u001b[1;32m    511\u001b[0m     )\n\u001b[0;32m--> 512\u001b[0m \u001b[38;5;28;01mraise\u001b[39;00m \u001b[38;5;167;01mValueError\u001b[39;00m(error_msg) \u001b[38;5;28;01mfrom\u001b[39;00m \u001b[38;5;28;01mNone\u001b[39;00m\n",
      "\u001b[0;31mValueError\u001b[0m: Predictions and/or references don't match the expected format.\nExpected format: {'predictions': Sequence(feature=Sequence(feature=Value(dtype='uint16', id=None), length=-1, id=None), length=-1, id=None), 'references': Sequence(feature=Sequence(feature=Value(dtype='uint16', id=None), length=-1, id=None), length=-1, id=None)},\nInput predictions: [[5 5 5 ... 5 5 5]\n [5 5 5 ... 5 5 5]\n [5 5 5 ... 5 5 5]\n ...\n [3 3 3 ... 0 0 0]\n [3 3 3 ... 0 0 0]\n [3 3 3 ... 0 0 0]],\nInput references: [[6 6 6 ... 6 6 6]\n [6 6 6 ... 6 6 6]\n [6 6 6 ... 6 6 6]\n ...\n [4 4 4 ... 1 1 1]\n [4 4 4 ... 1 1 1]\n [0 0 0 ... 0 0 0]]"
     ]
    }
   ],
   "source": [
    "mean_iou.compute(\n",
    "    predictions=np.array(predictions),\n",
    "    references=np.array(ground_truth),\n",
    ")"
   ]
  }
 ],
 "metadata": {
  "kernelspec": {
   "display_name": "Python 3 (ipykernel)",
   "language": "python",
   "name": "python3"
  },
  "language_info": {
   "codemirror_mode": {
    "name": "ipython",
    "version": 3
   },
   "file_extension": ".py",
   "mimetype": "text/x-python",
   "name": "python",
   "nbconvert_exporter": "python",
   "pygments_lexer": "ipython3",
   "version": "3.10.12"
  }
 },
 "nbformat": 4,
 "nbformat_minor": 5
}
