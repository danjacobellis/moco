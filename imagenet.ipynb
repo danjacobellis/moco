{
 "cells": [
  {
   "cell_type": "markdown",
   "id": "04467b00-e7e8-416d-b158-b4c878effa43",
   "metadata": {},
   "source": [
    "measuring time to load data to GPU"
   ]
  },
  {
   "cell_type": "code",
   "execution_count": 1,
   "id": "a8ad3d1f-2839-4a43-9972-989664a720bf",
   "metadata": {},
   "outputs": [],
   "source": [
    "import zlib\n",
    "import numpy as np\n",
    "from datasets import load_dataset\n",
    "import torch"
   ]
  },
  {
   "cell_type": "code",
   "execution_count": 2,
   "id": "870f4f1a-79c5-4196-9655-30e213f4b397",
   "metadata": {},
   "outputs": [],
   "source": [
    "def entropy_decoder(compressed_img,original_shape):\n",
    "    decompressed = zlib.decompress(compressed_img)\n",
    "    ẑ = np.frombuffer(decompressed, dtype=np.int8)\n",
    "    ẑ = ẑ.reshape(original_shape)\n",
    "    return ẑ\n",
    "def batch_entropy_decode(compressed_batch,latent_size):\n",
    "    batch_size = latent_size[0];\n",
    "    original_size = latent_size.numpy().copy(); original_size[0] = 1;\n",
    "    z = torch.cat([torch.tensor(entropy_decoder(compressed_batch[i],original_size)) for i in range(batch_size)])\n",
    "    return z"
   ]
  },
  {
   "cell_type": "code",
   "execution_count": 3,
   "id": "83f44b29-283d-40d8-9a26-df132b5e149e",
   "metadata": {},
   "outputs": [],
   "source": [
    "dataset = load_dataset(\"danjacobellis/imagenet_RDAE_batched_250k\",split='train').with_format(\"torch\")"
   ]
  },
  {
   "cell_type": "code",
   "execution_count": 4,
   "id": "150e9f34-4fa4-47bb-a6b2-7477603b7629",
   "metadata": {},
   "outputs": [
    {
     "name": "stdout",
     "output_type": "stream",
     "text": [
      "CPU times: user 10min 28s, sys: 14.2 s, total: 10min 42s\n",
      "Wall time: 2min 33s\n"
     ]
    }
   ],
   "source": [
    "%%time\n",
    "for (i_batch, batch) in enumerate(dataset):\n",
    "    latent_size = batch['latent_size']\n",
    "    label = batch['label']\n",
    "    compressed_batch = batch['compressed_batch']\n",
    "    z = batch_entropy_decode(compressed_batch,latent_size)\n",
    "    z.to(\"cuda\")\n",
    "    z.detach()"
   ]
  }
 ],
 "metadata": {
  "kernelspec": {
   "display_name": "Python 3 (ipykernel)",
   "language": "python",
   "name": "python3"
  },
  "language_info": {
   "codemirror_mode": {
    "name": "ipython",
    "version": 3
   },
   "file_extension": ".py",
   "mimetype": "text/x-python",
   "name": "python",
   "nbconvert_exporter": "python",
   "pygments_lexer": "ipython3",
   "version": "3.10.12"
  }
 },
 "nbformat": 4,
 "nbformat_minor": 5
}
