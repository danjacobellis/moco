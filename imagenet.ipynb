{
 "cells": [
  {
   "cell_type": "markdown",
   "id": "04467b00-e7e8-416d-b158-b4c878effa43",
   "metadata": {},
   "source": [
    "measuring time to load data to GPU"
   ]
  },
  {
   "cell_type": "code",
   "execution_count": 5,
   "id": "a8ad3d1f-2839-4a43-9972-989664a720bf",
   "metadata": {},
   "outputs": [],
   "source": [
    "import zlib\n",
    "import numpy as np\n",
    "from datasets import load_dataset\n",
    "import torch"
   ]
  },
  {
   "cell_type": "code",
   "execution_count": 8,
   "id": "870f4f1a-79c5-4196-9655-30e213f4b397",
   "metadata": {},
   "outputs": [],
   "source": [
    "def entropy_decoder(compressed_img,original_shape):\n",
    "    decompressed = zlib.decompress(compressed_img)\n",
    "    ẑ = np.frombuffer(decompressed, dtype=np.int8)\n",
    "    ẑ = ẑ.reshape(original_shape)\n",
    "    return ẑ\n",
    "def batch_entropy_decode(compressed_batch,original_size):\n",
    "    z = torch.cat([\n",
    "        torch.tensor(\n",
    "            entropy_decoder(compressed_batch[i], original_size)\n",
    "        ) \n",
    "        for i in range(batch_size)\n",
    "    ])\n",
    "    return z"
   ]
  },
  {
   "cell_type": "code",
   "execution_count": 7,
   "id": "83f44b29-283d-40d8-9a26-df132b5e149e",
   "metadata": {},
   "outputs": [],
   "source": [
    "dataset = load_dataset(\"danjacobellis/imagenet_RDAE_batched_250k\",split='train').with_format(\"torch\")\n",
    "N_classes=1001;"
   ]
  },
  {
   "cell_type": "code",
   "execution_count": 37,
   "id": "150e9f34-4fa4-47bb-a6b2-7477603b7629",
   "metadata": {},
   "outputs": [
    {
     "name": "stdout",
     "output_type": "stream",
     "text": [
      "CPU times: user 10min 34s, sys: 15.8 s, total: 10min 50s\n",
      "Wall time: 2min 32s\n"
     ]
    }
   ],
   "source": [
    "%%time\n",
    "for (i_batch, batch) in enumerate(dataset):\n",
    "    latent_size = batch['latent_size']\n",
    "    batch_size = latent_size[0];\n",
    "    original_size = latent_size.numpy().copy();\n",
    "    original_size[0] = 1;\n",
    "    \n",
    "    compressed_batch = batch['compressed_batch']\n",
    "    z = batch_entropy_decode(compressed_batch,original_size);\n",
    "    z.to(\"cuda\")\n",
    "    \n",
    "    label = batch['label'].to(torch.int64)\n",
    "    y = torch.zeros((batch_size,N_classes,1,1),dtype=torch.int16)\n",
    "    y.scatter_(1, label.view(-1, 1, 1, 1), 1)\n",
    "    y.to(\"cuda\")\n",
    "    \n",
    "    z.detach()\n",
    "    y.detach()"
   ]
  },
  {
   "cell_type": "code",
   "execution_count": 40,
   "id": "c5f23ab6-7e03-4855-a58a-978a24691c4f",
   "metadata": {},
   "outputs": [
    {
     "data": {
      "text/plain": [
       "torch.Size([64, 128, 45, 63])"
      ]
     },
     "execution_count": 40,
     "metadata": {},
     "output_type": "execute_result"
    }
   ],
   "source": [
    "z.shape"
   ]
  },
  {
   "cell_type": "code",
   "execution_count": 41,
   "id": "d6c9c5c1-38b7-40c1-b7a4-a14f8b423a4e",
   "metadata": {},
   "outputs": [
    {
     "data": {
      "text/plain": [
       "torch.Size([64, 1001, 1, 1])"
      ]
     },
     "execution_count": 41,
     "metadata": {},
     "output_type": "execute_result"
    }
   ],
   "source": [
    "y.shape"
   ]
  },
  {
   "cell_type": "markdown",
   "id": "74e75526-23a5-4429-9f68-e5016fa229a3",
   "metadata": {},
   "source": [
    "```\n",
    "64 x  128   x ~128 x ~128\n",
    "64 x  256   x ~64  x ~64\n",
    "64 x  512   x ~32  x ~32\n",
    "64 x  1024  x ~16  x ~16\n",
    "64 x  2048  x ~8   x ~8\n",
    "64 x  4096  x ~4   x ~4\n",
    "64 x  8192  x ~2   x ~2\n",
    "64 x 16384  x  1   x  1\n",
    "64 x  1000  x  1   x  1\n",
    "```"
   ]
  }
 ],
 "metadata": {
  "kernelspec": {
   "display_name": "Python 3 (ipykernel)",
   "language": "python",
   "name": "python3"
  },
  "language_info": {
   "codemirror_mode": {
    "name": "ipython",
    "version": 3
   },
   "file_extension": ".py",
   "mimetype": "text/x-python",
   "name": "python",
   "nbconvert_exporter": "python",
   "pygments_lexer": "ipython3",
   "version": "3.10.12"
  }
 },
 "nbformat": 4,
 "nbformat_minor": 5
}
