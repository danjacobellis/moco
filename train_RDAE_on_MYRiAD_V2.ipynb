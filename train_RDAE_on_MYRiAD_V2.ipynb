{
 "cells": [
  {
   "cell_type": "code",
   "execution_count": 1,
   "id": "5ba28bd5-c837-4062-8755-1179d584751b",
   "metadata": {},
   "outputs": [],
   "source": [
    "import math\n",
    "import PIL.Image as Image\n",
    "import numpy as np\n",
    "import matplotlib.pyplot as plt\n",
    "import torch\n",
    "import torch.nn as nn\n",
    "import torch.nn.functional as F\n",
    "import torch.optim as optim\n",
    "import IPython.display as disp\n",
    "from torch.utils.data import DataLoader\n",
    "from torch import Tensor\n",
    "from datasets import load_dataset\n",
    "from torchvision import transforms\n",
    "from compressai.models import CompressionModel\n",
    "from compressai.entropy_models import EntropyBottleneck\n",
    "from compressai.ops.parametrizers import NonNegativeParametrizer"
   ]
  },
  {
   "cell_type": "code",
   "execution_count": 2,
   "id": "1ce6f5eb-b04f-42bc-9c4e-e1369e04c1e6",
   "metadata": {},
   "outputs": [],
   "source": [
    "def analysis_1d(in_channels, out_channels, kernel_size=5, stride=2):\n",
    "    return nn.Conv1d(\n",
    "        in_channels,\n",
    "        out_channels,\n",
    "        kernel_size=kernel_size,\n",
    "        stride=stride,\n",
    "        padding=kernel_size // 2,\n",
    "    )"
   ]
  },
  {
   "cell_type": "code",
   "execution_count": 3,
   "id": "8113f393-99a9-47ad-82d9-ada05651ab65",
   "metadata": {},
   "outputs": [],
   "source": [
    "def synthesis_1d(in_channels, out_channels, kernel_size=5, stride=2):\n",
    "    return nn.ConvTranspose1d(\n",
    "        in_channels,\n",
    "        out_channels,\n",
    "        kernel_size=kernel_size,\n",
    "        stride=stride,\n",
    "        output_padding=stride - 1,\n",
    "        padding=kernel_size // 2,\n",
    "    )"
   ]
  },
  {
   "cell_type": "code",
   "execution_count": 4,
   "id": "60844e39-0931-42f2-98c2-04afafc94f13",
   "metadata": {},
   "outputs": [],
   "source": [
    "class GDN_1d(nn.Module):\n",
    "\n",
    "    def __init__(\n",
    "        self,\n",
    "        in_channels: int,\n",
    "        inverse: bool = False,\n",
    "        beta_min: float = 1e-6,\n",
    "        gamma_init: float = 0.1,\n",
    "    ):\n",
    "        super().__init__()\n",
    "\n",
    "        beta_min = float(beta_min)\n",
    "        gamma_init = float(gamma_init)\n",
    "        self.inverse = bool(inverse)\n",
    "\n",
    "        self.beta_reparam = NonNegativeParametrizer(minimum=beta_min)\n",
    "        beta = torch.ones(in_channels)\n",
    "        beta = self.beta_reparam.init(beta)\n",
    "        self.beta = nn.Parameter(beta)\n",
    "\n",
    "        self.gamma_reparam = NonNegativeParametrizer()\n",
    "        gamma = gamma_init * torch.eye(in_channels)\n",
    "        gamma = self.gamma_reparam.init(gamma)\n",
    "        self.gamma = nn.Parameter(gamma)\n",
    "\n",
    "    def forward(self, x: Tensor) -> Tensor:\n",
    "        _, C, _ = x.size()\n",
    "\n",
    "        beta = self.beta_reparam(self.beta)\n",
    "        gamma = self.gamma_reparam(self.gamma)\n",
    "        gamma = gamma.reshape(C, C, 1)\n",
    "        norm = F.conv1d(x**2, gamma, beta)\n",
    "\n",
    "        if self.inverse:\n",
    "            norm = torch.sqrt(norm)\n",
    "        else:\n",
    "            norm = torch.rsqrt(norm)\n",
    "\n",
    "        out = x * norm\n",
    "\n",
    "        return out"
   ]
  },
  {
   "cell_type": "code",
   "execution_count": 5,
   "id": "e350bd51-e6ec-4eed-a4a6-ef2a5174d4a8",
   "metadata": {},
   "outputs": [
    {
     "data": {
      "application/vnd.jupyter.widget-view+json": {
       "model_id": "cdaed3c0a4d944bfb3ab5764c9c6b85a",
       "version_major": 2,
       "version_minor": 0
      },
      "text/plain": [
       "Resolving data files:   0%|          | 0/34 [00:00<?, ?it/s]"
      ]
     },
     "metadata": {},
     "output_type": "display_data"
    }
   ],
   "source": [
    "dataset = load_dataset(\"danjacobellis/MYRiAD_V2\",split='train').with_format(\"torch\")"
   ]
  },
  {
   "cell_type": "code",
   "execution_count": 6,
   "id": "1edd5ecc-60f5-4503-be88-603c2cc048a8",
   "metadata": {},
   "outputs": [],
   "source": [
    "class RateDistortionAutoEncoder(CompressionModel):\n",
    "    def __init__(self, N=128):\n",
    "        super().__init__()\n",
    "        self.entropy_bottleneck = EntropyBottleneck(N)\n",
    "        self.encode = nn.Sequential(\n",
    "            analysis_1d(12, N),\n",
    "            GDN_1d(N),\n",
    "            analysis_1d(N, N),\n",
    "            GDN_1d(N),\n",
    "            analysis_1d(N, N),\n",
    "        )\n",
    "\n",
    "        self.decode = nn.Sequential(\n",
    "            synthesis_1d(N, N),\n",
    "            GDN_1d(N, inverse=True),\n",
    "            synthesis_1d(N, N),\n",
    "            GDN_1d(N, inverse=True),\n",
    "            synthesis_1d(N, 12),\n",
    "        )\n",
    "\n",
    "    def forward(self, x):\n",
    "        y = self.encode(x)\n",
    "        y_hat, y_likelihoods = self.entropy_bottleneck(y)\n",
    "        x_hat = self.decode(y_hat)\n",
    "        return x_hat, y_likelihoods"
   ]
  },
  {
   "cell_type": "code",
   "execution_count": 7,
   "id": "3cd15528-f8ad-46b2-945c-aedd4af3def7",
   "metadata": {},
   "outputs": [],
   "source": [
    "def live_plot(x):\n",
    "    plt.clf()\n",
    "    plt.plot(x)\n",
    "    disp.display(plt.gcf())\n",
    "    disp.clear_output(wait=True)"
   ]
  },
  {
   "cell_type": "code",
   "execution_count": 8,
   "id": "30e38c5b-14cd-47b7-8f27-b0eb3d5d1a9a",
   "metadata": {},
   "outputs": [],
   "source": [
    "net = RateDistortionAutoEncoder().to(\"cuda\")\n",
    "parameters = set(p for n, p in net.named_parameters() if not n.endswith(\".quantiles\"))\n",
    "aux_parameters = set(p for n, p in net.named_parameters() if n.endswith(\".quantiles\"))\n",
    "optimizer = optim.AdamW(parameters, lr=1e-4)\n",
    "aux_optimizer = optim.AdamW(aux_parameters, lr=1e-3)\n",
    "λ = 0.01"
   ]
  },
  {
   "cell_type": "code",
   "execution_count": 9,
   "id": "690f5bf6-4a0e-43b1-ab1c-ba9907bdd7c4",
   "metadata": {},
   "outputs": [
    {
     "data": {
      "image/png": "[encoded data removed]",
      "text/plain": [
       "<Figure size 640x480 with 1 Axes>"
      ]
     },
     "metadata": {},
     "output_type": "display_data"
    }
   ],
   "source": [
    "rate = np.array([])\n",
    "distortion = np.array([])\n",
    "for i_epoch in range(5):\n",
    "    dataloader = DataLoader(dataset, batch_size=32, shuffle=True)\n",
    "    for i,batch in enumerate(dataloader):\n",
    "        optimizer.zero_grad()\n",
    "        aux_optimizer.zero_grad()\n",
    "    \n",
    "        x = batch['acoustic'].to(\"cuda\")\n",
    "        x = x.to(torch.float)\n",
    "        \n",
    "        x_hat, y_likelihoods = net(x)\n",
    "        \n",
    "        # bitrate of the quantized latent\n",
    "        N, _, L = x.size()\n",
    "        num_samples = N * L\n",
    "        bps_loss = torch.log(y_likelihoods).sum() / (-math.log(2) * num_samples)\n",
    "        rate = np.append(rate,bps_loss.detach().cpu().numpy())\n",
    "        \n",
    "        # mean square error\n",
    "        mse_loss = F.mse_loss(x, x_hat)\n",
    "        distortion = np.append(distortion,mse_loss.detach().cpu().numpy())\n",
    "        \n",
    "        # final loss term\n",
    "        loss = mse_loss + λ * bps_loss\n",
    "        \n",
    "        loss.backward()\n",
    "        optimizer.step()\n",
    "        \n",
    "        aux_loss = net.aux_loss()\n",
    "        aux_loss.backward()\n",
    "        aux_optimizer.step()\n",
    "\n",
    "        torch.save({\n",
    "                'epoch': i,\n",
    "                'model_state_dict': net.state_dict(),\n",
    "                'optimizer_state_dict': optimizer.state_dict(),\n",
    "                'aux_optimizer_state_dict': aux_optimizer.state_dict(),\n",
    "                'loss': loss,\n",
    "            }, f\"rdae_MYRiAD_V2_checkpoint.pth\")\n",
    "        live_plot(rate)\n",
    "        np.save('rate',rate)\n",
    "        np.save('distortion',distortion)"
   ]
  }
 ],
 "metadata": {
  "kernelspec": {
   "display_name": "Python 3 (ipykernel)",
   "language": "python",
   "name": "python3"
  },
  "language_info": {
   "codemirror_mode": {
    "name": "ipython",
    "version": 3
   },
   "file_extension": ".py",
   "mimetype": "text/x-python",
   "name": "python",
   "nbconvert_exporter": "python",
   "pygments_lexer": "ipython3",
   "version": "3.10.12"
  }
 },
 "nbformat": 4,
 "nbformat_minor": 5
}
