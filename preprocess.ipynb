{
 "cells": [
  {
   "cell_type": "code",
   "execution_count": 1,
   "id": "a3e87b32-ce3d-4a7c-ab96-5f6fc6bf7bb1",
   "metadata": {},
   "outputs": [],
   "source": [
    "import torch\n",
    "import torch.nn as nn\n",
    "from torchvision import transforms\n",
    "import zlib\n",
    "import numpy as np\n",
    "from compressai.entropy_models import EntropyBottleneck\n",
    "from compressai.layers import GDN\n",
    "from compressai.models import CompressionModel\n",
    "from compressai.models.utils import conv, deconv\n",
    "from datasets import load_dataset\n",
    "import PIL.Image as Image"
   ]
  },
  {
   "cell_type": "code",
   "execution_count": 2,
   "id": "7790cc9b-77eb-4d51-9c6a-a9a8f997f81e",
   "metadata": {},
   "outputs": [],
   "source": [
    "def pil_to_pt(img):\n",
    "    t = transforms.functional.pil_to_tensor(img)\n",
    "    t = t.to(torch.float)\n",
    "    t = t/255\n",
    "    t = t-0.5\n",
    "    t = t.unsqueeze(0)\n",
    "    return t\n",
    "def pt_to_pil(t):\n",
    "    t = t+0.5\n",
    "    t = t*255\n",
    "    t = torch.clamp(t, min=-0.49, max=255.49)\n",
    "    t = t.round()\n",
    "    t = t.to(torch.uint8)\n",
    "    return t"
   ]
  },
  {
   "cell_type": "code",
   "execution_count": 3,
   "id": "4b5fb93e-3612-4828-98a5-6878d662845b",
   "metadata": {},
   "outputs": [],
   "source": [
    "class Network(CompressionModel):\n",
    "    def __init__(self, N=128):\n",
    "        super().__init__()\n",
    "        self.entropy_bottleneck = EntropyBottleneck(N)\n",
    "        self.encode = nn.Sequential(\n",
    "            conv(3, N),\n",
    "            GDN(N),\n",
    "            conv(N, N),\n",
    "            GDN(N),\n",
    "            conv(N, N),\n",
    "        )\n",
    "\n",
    "        self.decode = nn.Sequential(\n",
    "            deconv(N, N),\n",
    "            GDN(N, inverse=True),\n",
    "            deconv(N, N),\n",
    "            GDN(N, inverse=True),\n",
    "            deconv(N, 3),\n",
    "        )\n",
    "\n",
    "    def forward(self, x):\n",
    "        y = self.encode(x)\n",
    "        y_hat, y_likelihoods = self.entropy_bottleneck(y)\n",
    "        x_hat = self.decode(y_hat)\n",
    "        return x_hat, y_likelihoods\n"
   ]
  },
  {
   "cell_type": "code",
   "execution_count": 4,
   "id": "9ad182bc-4c0e-4549-8492-4a00d9e9e478",
   "metadata": {},
   "outputs": [],
   "source": [
    "def lossy_analysis_transform(img):\n",
    "    x = pil_to_pt(img).to(\"cuda\")\n",
    "    z = net.encode(x).round().to(torch.int8).detach().to(\"cpu\").numpy()\n",
    "    return z\n",
    "    \n",
    "def lossless_entropy_encode(z):\n",
    "    original_shape = z.shape\n",
    "    compressed_img = zlib.compress(z.tobytes(), level=9)\n",
    "    return compressed_img, original_shape\n",
    "\n",
    "def compress(img):\n",
    "    z = lossy_analysis_transform(img)\n",
    "    compressed_img, original_shape = lossless_entropy_encode(z)\n",
    "    return compressed_img, original_shape\n",
    "    \n",
    "def compress_dataset(sample):\n",
    "    img = sample['image']\n",
    "    if (img.mode == 'L'):\n",
    "        rgbimg = Image.new(\"RGB\", img.size)\n",
    "        rgbimg.paste(img)\n",
    "        img = rgbimg\n",
    "    if (img.mode == 'CMYK'):\n",
    "        rgbimg = Image.new(\"RGB\", img.size)\n",
    "        rgbimg.paste(img)\n",
    "        img = rgbimg\n",
    "    \n",
    "    compressed_image, original_shape = compress(img)\n",
    "    sample['compressed_image'] = compressed_image\n",
    "    sample['latent_shape'] = original_shape\n",
    "    return sample"
   ]
  },
  {
   "cell_type": "code",
   "execution_count": 5,
   "id": "dcb320a9-c832-48e0-be78-3e5210d16788",
   "metadata": {},
   "outputs": [
    {
     "data": {
      "text/plain": [
       "<All keys matched successfully>"
      ]
     },
     "execution_count": 5,
     "metadata": {},
     "output_type": "execute_result"
    }
   ],
   "source": [
    "net = Network()\n",
    "net = net.to(\"cuda\")\n",
    "checkpoint = torch.load(\"checkpoint.pth\")\n",
    "net.load_state_dict(checkpoint['model_state_dict'])"
   ]
  },
  {
   "cell_type": "code",
   "execution_count": null,
   "id": "599987f1-9ad9-4924-8b78-1570d73cc8b2",
   "metadata": {},
   "outputs": [],
   "source": [
    "dataset = load_dataset(\"imagenet-1k\",split='train')\n",
    "dataset = dataset.map(compress_dataset)\n",
    "dataset = dataset.remove_columns('image');\n",
    "dataset.push_to_hub(\"danjacobellis/imagenet_RDAE\",split='train')"
   ]
  },
  {
   "cell_type": "code",
   "execution_count": null,
   "id": "c04e8dc2-e994-4399-93df-6b4da72ebcb4",
   "metadata": {},
   "outputs": [],
   "source": [
    "dataset = load_dataset(\"imagenet-1k\",split='test')\n",
    "dataset = dataset.map(compress_dataset)\n",
    "dataset = dataset.remove_columns('image');\n",
    "dataset.push_to_hub(\"danjacobellis/imagenet_RDAE\",split='test')"
   ]
  },
  {
   "cell_type": "code",
   "execution_count": null,
   "id": "822a5ab4-fc34-4647-aca7-f4976998b438",
   "metadata": {},
   "outputs": [],
   "source": [
    "dataset = load_dataset(\"imagenet-1k\",split='validation')\n",
    "dataset = dataset.map(compress_dataset)\n",
    "dataset = dataset.remove_columns('image');\n",
    "dataset.push_to_hub(\"danjacobellis/imagenet_RDAE\",split='validation')"
   ]
  }
 ],
 "metadata": {
  "kernelspec": {
   "display_name": "Python 3 (ipykernel)",
   "language": "python",
   "name": "python3"
  },
  "language_info": {
   "codemirror_mode": {
    "name": "ipython",
    "version": 3
   },
   "file_extension": ".py",
   "mimetype": "text/x-python",
   "name": "python",
   "nbconvert_exporter": "python",
   "pygments_lexer": "ipython3",
   "version": "3.10.12"
  }
 },
 "nbformat": 4,
 "nbformat_minor": 5
}
