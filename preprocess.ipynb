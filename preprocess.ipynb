{
 "cells": [
  {
   "cell_type": "code",
   "execution_count": 1,
   "id": "a3e87b32-ce3d-4a7c-ab96-5f6fc6bf7bb1",
   "metadata": {},
   "outputs": [],
   "source": [
    "import torch\n",
    "import torch.nn as nn\n",
    "from torchvision import transforms\n",
    "import zlib\n",
    "import numpy as np\n",
    "from compressai.entropy_models import EntropyBottleneck\n",
    "from compressai.layers import GDN\n",
    "from compressai.models import CompressionModel\n",
    "from compressai.models.utils import conv, deconv\n",
    "from datasets import load_dataset, Dataset\n",
    "import PIL.Image as Image"
   ]
  },
  {
   "cell_type": "code",
   "execution_count": 2,
   "id": "4b5fb93e-3612-4828-98a5-6878d662845b",
   "metadata": {},
   "outputs": [],
   "source": [
    "class Network(CompressionModel):\n",
    "    def __init__(self, N=128):\n",
    "        super().__init__()\n",
    "        self.entropy_bottleneck = EntropyBottleneck(N)\n",
    "        self.encode = nn.Sequential(\n",
    "            conv(3, N),\n",
    "            GDN(N),\n",
    "            conv(N, N),\n",
    "            GDN(N),\n",
    "            conv(N, N),\n",
    "        )\n",
    "\n",
    "        self.decode = nn.Sequential(\n",
    "            deconv(N, N),\n",
    "            GDN(N, inverse=True),\n",
    "            deconv(N, N),\n",
    "            GDN(N, inverse=True),\n",
    "            deconv(N, 3),\n",
    "        )\n",
    "\n",
    "    def forward(self, x):\n",
    "        y = self.encode(x)\n",
    "        y_hat, y_likelihoods = self.entropy_bottleneck(y)\n",
    "        x_hat = self.decode(y_hat)\n",
    "        return x_hat, y_likelihoods\n"
   ]
  },
  {
   "cell_type": "code",
   "execution_count": 3,
   "id": "9ad182bc-4c0e-4549-8492-4a00d9e9e478",
   "metadata": {},
   "outputs": [],
   "source": [
    "def lossy_analysis_transform(img):\n",
    "    x = img.to(\"cuda\")\n",
    "    z = net.encode(x).round().to(torch.int8).detach().to(\"cpu\").numpy()\n",
    "    return z\n",
    "    \n",
    "def lossless_entropy_encode(z):\n",
    "    original_shape = z.shape\n",
    "    compressed_img = zlib.compress(z.tobytes(), level=9)\n",
    "    return compressed_img, original_shape\n",
    "\n",
    "def prep_dataset(sample):\n",
    "    img = sample['image']\n",
    "    sample['width'] = img.width\n",
    "    sample['height'] = img.height\n",
    "\n",
    "    if (img.mode == 'L') | (img.mode == 'CMYK') | (img.mode == 'RGBA'):\n",
    "        rgbimg = Image.new(\"RGB\", img.size)\n",
    "        rgbimg.paste(img)\n",
    "        img = rgbimg\n",
    "\n",
    "    t = transforms.functional.pil_to_tensor(img)\n",
    "    t = t.to(torch.float)\n",
    "    t = t/255\n",
    "    t = t-0.5\n",
    "    \n",
    "    sample['img_tensor'] = t\n",
    "    return sample"
   ]
  },
  {
   "cell_type": "code",
   "execution_count": 4,
   "id": "dcb320a9-c832-48e0-be78-3e5210d16788",
   "metadata": {},
   "outputs": [
    {
     "data": {
      "text/plain": [
       "<All keys matched successfully>"
      ]
     },
     "execution_count": 4,
     "metadata": {},
     "output_type": "execute_result"
    }
   ],
   "source": [
    "net = Network()\n",
    "net = net.to(\"cuda\")\n",
    "checkpoint = torch.load(\"checkpoint.pth\")\n",
    "net.load_state_dict(checkpoint['model_state_dict'])"
   ]
  },
  {
   "cell_type": "code",
   "execution_count": 5,
   "id": "44bbec15-c50c-4ca8-b70f-52241190c27a",
   "metadata": {},
   "outputs": [
    {
     "data": {
      "application/vnd.jupyter.widget-view+json": {
       "model_id": "b93bb9c3794b4b1f9d909cc40359d8de",
       "version_major": 2,
       "version_minor": 0
      },
      "text/plain": [
       "Map:   0%|          | 0/250000 [00:00<?, ? examples/s]"
      ]
     },
     "metadata": {},
     "output_type": "display_data"
    },
    {
     "name": "stdout",
     "output_type": "stream",
     "text": [
      "CPU times: user 3h 15min 46s, sys: 15min 18s, total: 3h 31min 5s\n",
      "Wall time: 49min 45s\n"
     ]
    }
   ],
   "source": [
    "%%time\n",
    "dataset = load_dataset(\"imagenet-1k\",split='train[0:250000]')\n",
    "dataset = dataset.map(prep_dataset)\n",
    "dataset = dataset.remove_columns('image')\n",
    "dataset = dataset.with_format(\"torch\")"
   ]
  },
  {
   "cell_type": "code",
   "execution_count": 6,
   "id": "c79e5282-a6e1-4a2a-8883-3d10e6cfd2c8",
   "metadata": {},
   "outputs": [],
   "source": [
    "width = dataset['width'];\n",
    "height = dataset['height'];\n",
    "unique_pairs = torch.unique(torch.stack([width, height], dim=1), dim=0)\n",
    "pair_counts = {(w.item(), h.item()): ((width == w) & (height == h)).sum().item() \n",
    "               for w, h in unique_pairs}\n",
    "sizes = sorted(pair_counts.items(), key=lambda x: x[1], reverse=True)\n",
    "\n",
    "# only keep aspect ratios that have at least 1000 examples \n",
    "N = 0;\n",
    "while (sizes[N][1]>=1000):\n",
    "    N +=1\n",
    "sizes = sizes[:N]"
   ]
  },
  {
   "cell_type": "code",
   "execution_count": 7,
   "id": "09a5e715-3767-4c25-a7ca-c95104c2dd09",
   "metadata": {},
   "outputs": [
    {
     "data": {
      "application/vnd.jupyter.widget-view+json": {
       "model_id": "b50ccf8bff93447590e28e84cfd653db",
       "version_major": 2,
       "version_minor": 0
      },
      "text/plain": [
       "Filter:   0%|          | 0/250000 [00:00<?, ? examples/s]"
      ]
     },
     "metadata": {},
     "output_type": "display_data"
    },
    {
     "data": {
      "application/vnd.jupyter.widget-view+json": {
       "model_id": "0560911dc5654c8289d5e0ec2b034e71",
       "version_major": 2,
       "version_minor": 0
      },
      "text/plain": [
       "Filter:   0%|          | 0/250000 [00:00<?, ? examples/s]"
      ]
     },
     "metadata": {},
     "output_type": "display_data"
    },
    {
     "data": {
      "application/vnd.jupyter.widget-view+json": {
       "model_id": "6a40eac1de6e42fd824cf13869c94ab2",
       "version_major": 2,
       "version_minor": 0
      },
      "text/plain": [
       "Filter:   0%|          | 0/250000 [00:00<?, ? examples/s]"
      ]
     },
     "metadata": {},
     "output_type": "display_data"
    },
    {
     "data": {
      "application/vnd.jupyter.widget-view+json": {
       "model_id": "b2216cab047a450588f15e27e14a4e1d",
       "version_major": 2,
       "version_minor": 0
      },
      "text/plain": [
       "Filter:   0%|          | 0/250000 [00:00<?, ? examples/s]"
      ]
     },
     "metadata": {},
     "output_type": "display_data"
    },
    {
     "data": {
      "application/vnd.jupyter.widget-view+json": {
       "model_id": "19a4bd0b104343ffa3bf735499ad7c0c",
       "version_major": 2,
       "version_minor": 0
      },
      "text/plain": [
       "Filter:   0%|          | 0/250000 [00:00<?, ? examples/s]"
      ]
     },
     "metadata": {},
     "output_type": "display_data"
    },
    {
     "data": {
      "application/vnd.jupyter.widget-view+json": {
       "model_id": "28de2d7f6698446e8e8c69c53872ffbd",
       "version_major": 2,
       "version_minor": 0
      },
      "text/plain": [
       "Filter:   0%|          | 0/250000 [00:00<?, ? examples/s]"
      ]
     },
     "metadata": {},
     "output_type": "display_data"
    },
    {
     "data": {
      "application/vnd.jupyter.widget-view+json": {
       "model_id": "8032208e868b4664a6fb35f345c445f9",
       "version_major": 2,
       "version_minor": 0
      },
      "text/plain": [
       "Filter:   0%|          | 0/250000 [00:00<?, ? examples/s]"
      ]
     },
     "metadata": {},
     "output_type": "display_data"
    },
    {
     "data": {
      "application/vnd.jupyter.widget-view+json": {
       "model_id": "42c8505328d843709f9c63c384e0bf5b",
       "version_major": 2,
       "version_minor": 0
      },
      "text/plain": [
       "Filter:   0%|          | 0/250000 [00:00<?, ? examples/s]"
      ]
     },
     "metadata": {},
     "output_type": "display_data"
    },
    {
     "data": {
      "application/vnd.jupyter.widget-view+json": {
       "model_id": "2e39756debff455291fa237f5699dcec",
       "version_major": 2,
       "version_minor": 0
      },
      "text/plain": [
       "Filter:   0%|          | 0/250000 [00:00<?, ? examples/s]"
      ]
     },
     "metadata": {},
     "output_type": "display_data"
    },
    {
     "data": {
      "application/vnd.jupyter.widget-view+json": {
       "model_id": "133950b265644c909fdc67b995aa09e5",
       "version_major": 2,
       "version_minor": 0
      },
      "text/plain": [
       "Filter:   0%|          | 0/250000 [00:00<?, ? examples/s]"
      ]
     },
     "metadata": {},
     "output_type": "display_data"
    },
    {
     "data": {
      "application/vnd.jupyter.widget-view+json": {
       "model_id": "cfcb3202ec27491f95b515b81020ef3f",
       "version_major": 2,
       "version_minor": 0
      },
      "text/plain": [
       "Filter:   0%|          | 0/250000 [00:00<?, ? examples/s]"
      ]
     },
     "metadata": {},
     "output_type": "display_data"
    },
    {
     "data": {
      "application/vnd.jupyter.widget-view+json": {
       "model_id": "d3ec193bc3794663a2981a19fdbf2069",
       "version_major": 2,
       "version_minor": 0
      },
      "text/plain": [
       "Filter:   0%|          | 0/250000 [00:00<?, ? examples/s]"
      ]
     },
     "metadata": {},
     "output_type": "display_data"
    },
    {
     "data": {
      "application/vnd.jupyter.widget-view+json": {
       "model_id": "1265aa96aa784a57bfbba52566c3d730",
       "version_major": 2,
       "version_minor": 0
      },
      "text/plain": [
       "Filter:   0%|          | 0/250000 [00:00<?, ? examples/s]"
      ]
     },
     "metadata": {},
     "output_type": "display_data"
    },
    {
     "data": {
      "application/vnd.jupyter.widget-view+json": {
       "model_id": "c941fd65b255436ca88a91ea3878dccc",
       "version_major": 2,
       "version_minor": 0
      },
      "text/plain": [
       "Filter:   0%|          | 0/250000 [00:00<?, ? examples/s]"
      ]
     },
     "metadata": {},
     "output_type": "display_data"
    },
    {
     "data": {
      "application/vnd.jupyter.widget-view+json": {
       "model_id": "360ba2bfcebe44b1994a631abba0a2e7",
       "version_major": 2,
       "version_minor": 0
      },
      "text/plain": [
       "Filter:   0%|          | 0/250000 [00:00<?, ? examples/s]"
      ]
     },
     "metadata": {},
     "output_type": "display_data"
    },
    {
     "data": {
      "application/vnd.jupyter.widget-view+json": {
       "model_id": "b025b8636d20455f80dcaa9da51bcf84",
       "version_major": 2,
       "version_minor": 0
      },
      "text/plain": [
       "Filter:   0%|          | 0/250000 [00:00<?, ? examples/s]"
      ]
     },
     "metadata": {},
     "output_type": "display_data"
    },
    {
     "name": "stdout",
     "output_type": "stream",
     "text": [
      "CPU times: user 5d 17h 14min 58s, sys: 1h 27min 3s, total: 5d 18h 42min 1s\n",
      "Wall time: 7h 49min 5s\n"
     ]
    }
   ],
   "source": [
    "%%time\n",
    "batch_size = 64\n",
    "compressed_batch = []\n",
    "label = []\n",
    "latent_size = []\n",
    "for size, count in sizes:\n",
    "    w = size[0]; h = size[1]\n",
    "    filtered = dataset.filter(lambda x: x['width']==w and x['height']==h)\n",
    "    for i_batch in range(len(filtered)//batch_size):\n",
    "        ind = range(i_batch * batch_size, (i_batch + 1) * batch_size)\n",
    "        batch_img = filtered[ind]['img_tensor']\n",
    "        z = lossy_analysis_transform(batch_img)\n",
    "        compressed = [lossless_entropy_encode(z[i])[0] for i in range(batch_size)]\n",
    "        batch_label = filtered[ind]['label']\n",
    "        compressed_batch.append(compressed)\n",
    "        label.append(batch_label)\n",
    "        latent_size.append(z.shape)"
   ]
  },
  {
   "cell_type": "code",
   "execution_count": 8,
   "id": "ee670af5-3580-4f41-a692-c52790418392",
   "metadata": {},
   "outputs": [
    {
     "name": "stdout",
     "output_type": "stream",
     "text": [
      "CPU times: user 238 ms, sys: 716 ms, total: 953 ms\n",
      "Wall time: 1.18 s\n"
     ]
    }
   ],
   "source": [
    "%%time\n",
    "new_dataset = Dataset.from_dict({\n",
    "    \"compressed_batch\" : compressed_batch,\n",
    "    \"label\" : label,\n",
    "    \"latent_size\" : latent_size})"
   ]
  },
  {
   "cell_type": "code",
   "execution_count": 9,
   "id": "9e299b2e-16b6-43cc-8c95-44242a85b790",
   "metadata": {},
   "outputs": [
    {
     "data": {
      "application/vnd.jupyter.widget-view+json": {
       "model_id": "d0c09020eeed4950b2a4a37382bae9bc",
       "version_major": 2,
       "version_minor": 0
      },
      "text/plain": [
       "Pushing dataset shards to the dataset hub:   0%|          | 0/2 [00:00<?, ?it/s]"
      ]
     },
     "metadata": {},
     "output_type": "display_data"
    },
    {
     "data": {
      "application/vnd.jupyter.widget-view+json": {
       "model_id": "1f4ca8521374446a9d316329fc0042bb",
       "version_major": 2,
       "version_minor": 0
      },
      "text/plain": [
       "Creating parquet from Arrow format:   0%|          | 0/11 [00:00<?, ?ba/s]"
      ]
     },
     "metadata": {},
     "output_type": "display_data"
    },
    {
     "data": {
      "application/vnd.jupyter.widget-view+json": {
       "model_id": "8863b5ed86b64a9f87007992e0ccc121",
       "version_major": 2,
       "version_minor": 0
      },
      "text/plain": [
       "Creating parquet from Arrow format:   0%|          | 0/11 [00:00<?, ?ba/s]"
      ]
     },
     "metadata": {},
     "output_type": "display_data"
    }
   ],
   "source": [
    "new_dataset.push_to_hub(\"danjacobellis/imagenet_RDAE_batched_250k\",split='train')"
   ]
  },
  {
   "cell_type": "code",
   "execution_count": 10,
   "id": "6ba7836d-fef0-43db-a014-cf0749a2c8ef",
   "metadata": {},
   "outputs": [
    {
     "data": {
      "text/plain": [
       "Dataset({\n",
       "    features: ['compressed_batch', 'label', 'latent_size'],\n",
       "    num_rows: 2062\n",
       "})"
      ]
     },
     "execution_count": 10,
     "metadata": {},
     "output_type": "execute_result"
    }
   ],
   "source": [
    "new_dataset"
   ]
  },
  {
   "cell_type": "code",
   "execution_count": null,
   "id": "c04e8dc2-e994-4399-93df-6b4da72ebcb4",
   "metadata": {},
   "outputs": [],
   "source": [
    "# dataset = load_dataset(\"imagenet-1k\",split='test')\n",
    "# dataset = dataset.map(compress_dataset)\n",
    "# dataset = dataset.remove_columns('image');\n",
    "# dataset.push_to_hub(\"danjacobellis/imagenet_RDAE_dry\",split='test')"
   ]
  },
  {
   "cell_type": "code",
   "execution_count": null,
   "id": "822a5ab4-fc34-4647-aca7-f4976998b438",
   "metadata": {},
   "outputs": [],
   "source": [
    "# dataset = load_dataset(\"imagenet-1k\",split='validation')\n",
    "# dataset = dataset.map(compress_dataset)\n",
    "# dataset = dataset.remove_columns('image');\n",
    "# dataset.push_to_hub(\"danjacobellis/imagenet_RDAE_dry\",split='validation')"
   ]
  }
 ],
 "metadata": {
  "kernelspec": {
   "display_name": "Python 3 (ipykernel)",
   "language": "python",
   "name": "python3"
  },
  "language_info": {
   "codemirror_mode": {
    "name": "ipython",
    "version": 3
   },
   "file_extension": ".py",
   "mimetype": "text/x-python",
   "name": "python",
   "nbconvert_exporter": "python",
   "pygments_lexer": "ipython3",
   "version": "3.10.12"
  }
 },
 "nbformat": 4,
 "nbformat_minor": 5
}
